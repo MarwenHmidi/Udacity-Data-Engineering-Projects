{
 "cells": [
  {
   "cell_type": "markdown",
   "metadata": {
    "editable": true
   },
   "source": [
    "# Data Engineering Capstone Project\n",
    "\n",
    "#### Project Summary\n",
    "In this capstone project, we will develop a data model designed to support OLAP queries analyzing immigration data ( US immigration data ).\n",
    "In this data model, will included U.S immigration\n",
    ", demographics as well as ports, countries, visa types data, etc...\n",
    "We will be using Star Schema for the data model which is used for simpler & optimized queries.\n",
    "\n",
    "The project follows the follow steps:\n",
    "* Step 1: Scope the Project and Gather Data\n",
    "* Step 2: Explore and Assess the Data\n",
    "* Step 3: Define the Data Model\n",
    "* Step 4: Run ETL to Model the Data\n",
    "* Step 5: Complete Project Write Up"
   ]
  },
  {
   "cell_type": "code",
   "execution_count": 2,
   "metadata": {
    "editable": true
   },
   "outputs": [],
   "source": [
    "# Do all imports and installs here\n",
    "import pandas as pd\n",
    "import matplotlib.pyplot as plt\n",
    "import seaborn as sns\n",
    "#from pyspark.sql.types import IntegerType, TimestampType\n",
    "#from pyspark.sql.functions import udf,to_date\n",
    "#from pyspark.sql.functions import isnan, when, count, col\n",
    "import utilities\n",
    "from utilities import plot_missing_values, columns_missing_values_90, check_duplicates, check_quality\n",
    "from pyspark.sql.types import *\n",
    "from pyspark.sql.functions import *"
   ]
  },
  {
   "cell_type": "markdown",
   "metadata": {
    "editable": true
   },
   "source": [
    "### Step 1: Scope the Project and Gather Data\n",
    "\n",
    "#### Scope \n",
    "\n",
    "\n",
    "* In order to provide a wider base to study immigration data  to see movement of immigration in the U.S. along with additional information like visa type and from where these immigrants are coming , this project intends to enhance the U.S. I94 immigration data with additional data such as demographics, temperature data, etc.\n",
    "\n",
    "* We'll carry out an extract, transform, and load (ETL) pipeline using Pyspark. The collected data will be cleansed and used to build the Star Schema in the data model as Apache Parquet columnar format ideal for OLAP queries because the data formats are inconsistent across all data sets, which is similar to an ETL from a data lake.\n",
    "\n",
    "\n",
    "#### Describe and Gather Data \n",
    "* I94 Immigration Data: This data comes from the US National Tourism and Trade Office. A data dictionary is included in the workspace. This is where the data comes from.\n",
    "* World Temperature Data: This dataset came from Kaggle. You can read more about it here.\n",
    "* U.S. City Demographic Data: This data comes from OpenSoft. You can read more about it here.\n",
    "* Airport Code Table: This is a simple table of airport codes and corresponding cities. It comes from here."
   ]
  },
  {
   "cell_type": "markdown",
   "metadata": {
    "editable": true
   },
   "source": [
    "## I94 Immigration Data"
   ]
  },
  {
   "cell_type": "code",
   "execution_count": 4,
   "metadata": {
    "editable": true
   },
   "outputs": [],
   "source": [
    "# Read in the data here\n",
    "df_immigration = pd.read_csv(\"immigration_data_sample.csv\")"
   ]
  },
  {
   "cell_type": "code",
   "execution_count": 37,
   "metadata": {
    "editable": true
   },
   "outputs": [
    {
     "data": {
      "text/html": [
       "<div>\n",
       "<style scoped>\n",
       "    .dataframe tbody tr th:only-of-type {\n",
       "        vertical-align: middle;\n",
       "    }\n",
       "\n",
       "    .dataframe tbody tr th {\n",
       "        vertical-align: top;\n",
       "    }\n",
       "\n",
       "    .dataframe thead th {\n",
       "        text-align: right;\n",
       "    }\n",
       "</style>\n",
       "<table border=\"1\" class=\"dataframe\">\n",
       "  <thead>\n",
       "    <tr style=\"text-align: right;\">\n",
       "      <th></th>\n",
       "      <th>Unnamed: 0</th>\n",
       "      <th>cicid</th>\n",
       "      <th>i94yr</th>\n",
       "      <th>i94mon</th>\n",
       "      <th>i94cit</th>\n",
       "      <th>i94res</th>\n",
       "      <th>i94port</th>\n",
       "      <th>arrdate</th>\n",
       "      <th>i94mode</th>\n",
       "      <th>i94addr</th>\n",
       "      <th>...</th>\n",
       "      <th>entdepu</th>\n",
       "      <th>matflag</th>\n",
       "      <th>biryear</th>\n",
       "      <th>dtaddto</th>\n",
       "      <th>gender</th>\n",
       "      <th>insnum</th>\n",
       "      <th>airline</th>\n",
       "      <th>admnum</th>\n",
       "      <th>fltno</th>\n",
       "      <th>visatype</th>\n",
       "    </tr>\n",
       "  </thead>\n",
       "  <tbody>\n",
       "    <tr>\n",
       "      <th>0</th>\n",
       "      <td>2027561</td>\n",
       "      <td>4084316.0</td>\n",
       "      <td>2016.0</td>\n",
       "      <td>4.0</td>\n",
       "      <td>209.0</td>\n",
       "      <td>209.0</td>\n",
       "      <td>HHW</td>\n",
       "      <td>20566.0</td>\n",
       "      <td>1.0</td>\n",
       "      <td>HI</td>\n",
       "      <td>...</td>\n",
       "      <td>NaN</td>\n",
       "      <td>M</td>\n",
       "      <td>1955.0</td>\n",
       "      <td>07202016</td>\n",
       "      <td>F</td>\n",
       "      <td>NaN</td>\n",
       "      <td>JL</td>\n",
       "      <td>5.658267e+10</td>\n",
       "      <td>00782</td>\n",
       "      <td>WT</td>\n",
       "    </tr>\n",
       "    <tr>\n",
       "      <th>1</th>\n",
       "      <td>2171295</td>\n",
       "      <td>4422636.0</td>\n",
       "      <td>2016.0</td>\n",
       "      <td>4.0</td>\n",
       "      <td>582.0</td>\n",
       "      <td>582.0</td>\n",
       "      <td>MCA</td>\n",
       "      <td>20567.0</td>\n",
       "      <td>1.0</td>\n",
       "      <td>TX</td>\n",
       "      <td>...</td>\n",
       "      <td>NaN</td>\n",
       "      <td>M</td>\n",
       "      <td>1990.0</td>\n",
       "      <td>10222016</td>\n",
       "      <td>M</td>\n",
       "      <td>NaN</td>\n",
       "      <td>*GA</td>\n",
       "      <td>9.436200e+10</td>\n",
       "      <td>XBLNG</td>\n",
       "      <td>B2</td>\n",
       "    </tr>\n",
       "    <tr>\n",
       "      <th>2</th>\n",
       "      <td>589494</td>\n",
       "      <td>1195600.0</td>\n",
       "      <td>2016.0</td>\n",
       "      <td>4.0</td>\n",
       "      <td>148.0</td>\n",
       "      <td>112.0</td>\n",
       "      <td>OGG</td>\n",
       "      <td>20551.0</td>\n",
       "      <td>1.0</td>\n",
       "      <td>FL</td>\n",
       "      <td>...</td>\n",
       "      <td>NaN</td>\n",
       "      <td>M</td>\n",
       "      <td>1940.0</td>\n",
       "      <td>07052016</td>\n",
       "      <td>M</td>\n",
       "      <td>NaN</td>\n",
       "      <td>LH</td>\n",
       "      <td>5.578047e+10</td>\n",
       "      <td>00464</td>\n",
       "      <td>WT</td>\n",
       "    </tr>\n",
       "    <tr>\n",
       "      <th>3</th>\n",
       "      <td>2631158</td>\n",
       "      <td>5291768.0</td>\n",
       "      <td>2016.0</td>\n",
       "      <td>4.0</td>\n",
       "      <td>297.0</td>\n",
       "      <td>297.0</td>\n",
       "      <td>LOS</td>\n",
       "      <td>20572.0</td>\n",
       "      <td>1.0</td>\n",
       "      <td>CA</td>\n",
       "      <td>...</td>\n",
       "      <td>NaN</td>\n",
       "      <td>M</td>\n",
       "      <td>1991.0</td>\n",
       "      <td>10272016</td>\n",
       "      <td>M</td>\n",
       "      <td>NaN</td>\n",
       "      <td>QR</td>\n",
       "      <td>9.478970e+10</td>\n",
       "      <td>00739</td>\n",
       "      <td>B2</td>\n",
       "    </tr>\n",
       "    <tr>\n",
       "      <th>4</th>\n",
       "      <td>3032257</td>\n",
       "      <td>985523.0</td>\n",
       "      <td>2016.0</td>\n",
       "      <td>4.0</td>\n",
       "      <td>111.0</td>\n",
       "      <td>111.0</td>\n",
       "      <td>CHM</td>\n",
       "      <td>20550.0</td>\n",
       "      <td>3.0</td>\n",
       "      <td>NY</td>\n",
       "      <td>...</td>\n",
       "      <td>NaN</td>\n",
       "      <td>M</td>\n",
       "      <td>1997.0</td>\n",
       "      <td>07042016</td>\n",
       "      <td>F</td>\n",
       "      <td>NaN</td>\n",
       "      <td>NaN</td>\n",
       "      <td>4.232257e+10</td>\n",
       "      <td>LAND</td>\n",
       "      <td>WT</td>\n",
       "    </tr>\n",
       "  </tbody>\n",
       "</table>\n",
       "<p>5 rows × 29 columns</p>\n",
       "</div>"
      ],
      "text/plain": [
       "   Unnamed: 0      cicid   i94yr  i94mon  i94cit  i94res i94port  arrdate  \\\n",
       "0     2027561  4084316.0  2016.0     4.0   209.0   209.0     HHW  20566.0   \n",
       "1     2171295  4422636.0  2016.0     4.0   582.0   582.0     MCA  20567.0   \n",
       "2      589494  1195600.0  2016.0     4.0   148.0   112.0     OGG  20551.0   \n",
       "3     2631158  5291768.0  2016.0     4.0   297.0   297.0     LOS  20572.0   \n",
       "4     3032257   985523.0  2016.0     4.0   111.0   111.0     CHM  20550.0   \n",
       "\n",
       "   i94mode i94addr    ...     entdepu  matflag  biryear   dtaddto  gender  \\\n",
       "0      1.0      HI    ...         NaN        M   1955.0  07202016       F   \n",
       "1      1.0      TX    ...         NaN        M   1990.0  10222016       M   \n",
       "2      1.0      FL    ...         NaN        M   1940.0  07052016       M   \n",
       "3      1.0      CA    ...         NaN        M   1991.0  10272016       M   \n",
       "4      3.0      NY    ...         NaN        M   1997.0  07042016       F   \n",
       "\n",
       "  insnum airline        admnum  fltno  visatype  \n",
       "0    NaN      JL  5.658267e+10  00782        WT  \n",
       "1    NaN     *GA  9.436200e+10  XBLNG        B2  \n",
       "2    NaN      LH  5.578047e+10  00464        WT  \n",
       "3    NaN      QR  9.478970e+10  00739        B2  \n",
       "4    NaN     NaN  4.232257e+10   LAND        WT  \n",
       "\n",
       "[5 rows x 29 columns]"
      ]
     },
     "execution_count": 37,
     "metadata": {},
     "output_type": "execute_result"
    }
   ],
   "source": [
    "df_immigration.head()"
   ]
  },
  {
   "cell_type": "code",
   "execution_count": 39,
   "metadata": {
    "editable": true
   },
   "outputs": [
    {
     "name": "stdout",
     "output_type": "stream",
     "text": [
      "<class 'pandas.core.frame.DataFrame'>\n",
      "RangeIndex: 1000 entries, 0 to 999\n",
      "Data columns (total 29 columns):\n",
      "Unnamed: 0    1000 non-null int64\n",
      "cicid         1000 non-null float64\n",
      "i94yr         1000 non-null float64\n",
      "i94mon        1000 non-null float64\n",
      "i94cit        1000 non-null float64\n",
      "i94res        1000 non-null float64\n",
      "i94port       1000 non-null object\n",
      "arrdate       1000 non-null float64\n",
      "i94mode       1000 non-null float64\n",
      "i94addr       941 non-null object\n",
      "depdate       951 non-null float64\n",
      "i94bir        1000 non-null float64\n",
      "i94visa       1000 non-null float64\n",
      "count         1000 non-null float64\n",
      "dtadfile      1000 non-null int64\n",
      "visapost      382 non-null object\n",
      "occup         4 non-null object\n",
      "entdepa       1000 non-null object\n",
      "entdepd       954 non-null object\n",
      "entdepu       0 non-null float64\n",
      "matflag       954 non-null object\n",
      "biryear       1000 non-null float64\n",
      "dtaddto       1000 non-null object\n",
      "gender        859 non-null object\n",
      "insnum        35 non-null float64\n",
      "airline       967 non-null object\n",
      "admnum        1000 non-null float64\n",
      "fltno         992 non-null object\n",
      "visatype      1000 non-null object\n",
      "dtypes: float64(15), int64(2), object(12)\n",
      "memory usage: 226.6+ KB\n"
     ]
    }
   ],
   "source": [
    "df_immigration.info()"
   ]
  },
  {
   "cell_type": "code",
   "execution_count": 41,
   "metadata": {
    "editable": true
   },
   "outputs": [
    {
     "data": {
      "text/plain": [
       "False    1000\n",
       "dtype: int64"
      ]
     },
     "execution_count": 41,
     "metadata": {},
     "output_type": "execute_result"
    }
   ],
   "source": [
    "# check if there's any duplications\n",
    "df_immigration.duplicated().value_counts()"
   ]
  },
  {
   "cell_type": "code",
   "execution_count": 43,
   "metadata": {
    "editable": true
   },
   "outputs": [
    {
     "data": {
      "text/plain": [
       "<matplotlib.axes._subplots.AxesSubplot at 0x7fa53abb3ac8>"
      ]
     },
     "execution_count": 43,
     "metadata": {},
     "output_type": "execute_result"
    },
    {
     "data": {
      "image/png": "[encoded data removed]",
      "text/plain": [
       "<matplotlib.figure.Figure at 0x7fa53abb2748>"
      ]
     },
     "metadata": {},
     "output_type": "display_data"
    }
   ],
   "source": [
    "#checking if there's nan values in this dataset\n",
    "plt.figure(figsize=(20,10))\n",
    "sns.heatmap(df_immigration.isna(), cbar=False)"
   ]
  },
  {
   "cell_type": "markdown",
   "metadata": {
    "editable": true
   },
   "source": [
    "#### Read the immigration data using pandas or pyspark"
   ]
  },
  {
   "cell_type": "code",
   "execution_count": 7,
   "metadata": {
    "editable": true
   },
   "outputs": [],
   "source": [
    "# imm94_data = '../../data/18-83510-I94-Data-2016/i94_apr16_sub.sas7bdat'\n",
    "# df_imm94 = pd.read_sas(imm94_data, 'sas7bdat', encoding=\"ISO-8859-1\")"
   ]
  },
  {
   "cell_type": "code",
   "execution_count": 8,
   "metadata": {
    "editable": true
   },
   "outputs": [],
   "source": [
    "# df_imm94.head(20)"
   ]
  },
  {
   "cell_type": "code",
   "execution_count": 3,
   "metadata": {
    "editable": true
   },
   "outputs": [],
   "source": [
    "from pyspark.sql import SparkSession\n",
    "\n",
    "spark = SparkSession.builder.\\\n",
    "config(\"spark.jars.repositories\", \"https://repos.spark-packages.org/\").\\\n",
    "config(\"spark.jars.packages\", \"saurfang:spark-sas7bdat:2.0.0-s_2.11\").\\\n",
    "enableHiveSupport().getOrCreate()\n",
    "\n",
    "df_imm94  = spark.read.format('com.github.saurfang.sas.spark').load('../../data/18-83510-I94-Data-2016/i94_apr16_sub.sas7bdat')\n"
   ]
  },
  {
   "cell_type": "code",
   "execution_count": null,
   "metadata": {
    "editable": true
   },
   "outputs": [],
   "source": [
    "# write to parquet\n",
    "df_imm94.write.parquet(\"sas_data\")"
   ]
  },
  {
   "cell_type": "code",
   "execution_count": 7,
   "metadata": {
    "editable": true
   },
   "outputs": [],
   "source": [
    "df_imm94=spark.read.parquet(\"sas_data\")"
   ]
  },
  {
   "cell_type": "code",
   "execution_count": 49,
   "metadata": {
    "editable": true
   },
   "outputs": [
    {
     "name": "stdout",
     "output_type": "stream",
     "text": [
      "+---------+------+------+------+------+-------+-------+-------+-------+-------+------+-------+-----+--------+--------+-----+-------+-------+-------+-------+-------+--------+------+------+-------+--------------+-----+--------+\n",
      "|    cicid| i94yr|i94mon|i94cit|i94res|i94port|arrdate|i94mode|i94addr|depdate|i94bir|i94visa|count|dtadfile|visapost|occup|entdepa|entdepd|entdepu|matflag|biryear| dtaddto|gender|insnum|airline|        admnum|fltno|visatype|\n",
      "+---------+------+------+------+------+-------+-------+-------+-------+-------+------+-------+-----+--------+--------+-----+-------+-------+-------+-------+-------+--------+------+------+-------+--------------+-----+--------+\n",
      "|5748517.0|2016.0|   4.0| 245.0| 438.0|    LOS|20574.0|    1.0|     CA|20582.0|  40.0|    1.0|  1.0|20160430|     SYD| null|      G|      O|   null|      M| 1976.0|10292016|     F|  null|     QF|9.495387003E10|00011|      B1|\n",
      "|5748518.0|2016.0|   4.0| 245.0| 438.0|    LOS|20574.0|    1.0|     NV|20591.0|  32.0|    1.0|  1.0|20160430|     SYD| null|      G|      O|   null|      M| 1984.0|10292016|     F|  null|     VA|9.495562283E10|00007|      B1|\n",
      "+---------+------+------+------+------+-------+-------+-------+-------+-------+------+-------+-----+--------+--------+-----+-------+-------+-------+-------+-------+--------+------+------+-------+--------------+-----+--------+\n",
      "only showing top 2 rows\n",
      "\n"
     ]
    }
   ],
   "source": [
    "df_imm94.show(2)"
   ]
  },
  {
   "cell_type": "markdown",
   "metadata": {
    "editable": true
   },
   "source": [
    "## World Temperatures Data By City"
   ]
  },
  {
   "cell_type": "code",
   "execution_count": 8,
   "metadata": {
    "editable": true
   },
   "outputs": [],
   "source": [
    "# temperatures = '../../data2/GlobalLandTemperaturesByCity.csv'\n",
    "# df_temp = pd.read_csv(temperatures)\n",
    "temperatures = '../../data2/GlobalLandTemperaturesByCity.csv'\n",
    "df_temp = spark.read.csv(temperatures, header=True, inferSchema=True)"
   ]
  },
  {
   "cell_type": "code",
   "execution_count": 53,
   "metadata": {
    "editable": true
   },
   "outputs": [],
   "source": [
    "@udf(returnType=StringType()) \n",
    "def get_state(str):\n",
    "    return df_states.filter(col(\"name\") == str.upper()).select(\"code\").collect()[0].asDict().get('code')"
   ]
  },
  {
   "cell_type": "code",
   "execution_count": 55,
   "metadata": {
    "editable": true
   },
   "outputs": [],
   "source": [
    "#df_temp=df_temp.filter(df_temp[\"country\"]==\"United States\")\\\n",
    "#.withColumn(\"year\",year(df_temp[\"dt\"]))\\\n",
    "#.withColumn(\"month\",month(df_temp[\"dt\"]))\\\n",
    "#.withColumn(\"state_abbrev\", get_state(col(\"City\")))"
   ]
  },
  {
   "cell_type": "code",
   "execution_count": 57,
   "metadata": {
    "editable": true
   },
   "outputs": [
    {
     "name": "stdout",
     "output_type": "stream",
     "text": [
      "+-------------------+------------------+-----------------------------+-----+-------+--------+---------+\n",
      "|                 dt|AverageTemperature|AverageTemperatureUncertainty| City|Country|Latitude|Longitude|\n",
      "+-------------------+------------------+-----------------------------+-----+-------+--------+---------+\n",
      "|1743-11-01 00:00:00|             6.068|           1.7369999999999999|Århus|Denmark|  57.05N|   10.33E|\n",
      "|1743-12-01 00:00:00|              null|                         null|Århus|Denmark|  57.05N|   10.33E|\n",
      "|1744-01-01 00:00:00|              null|                         null|Århus|Denmark|  57.05N|   10.33E|\n",
      "|1744-02-01 00:00:00|              null|                         null|Århus|Denmark|  57.05N|   10.33E|\n",
      "|1744-03-01 00:00:00|              null|                         null|Århus|Denmark|  57.05N|   10.33E|\n",
      "|1744-04-01 00:00:00|5.7879999999999985|           3.6239999999999997|Århus|Denmark|  57.05N|   10.33E|\n",
      "|1744-05-01 00:00:00|            10.644|           1.2830000000000001|Århus|Denmark|  57.05N|   10.33E|\n",
      "|1744-06-01 00:00:00|14.050999999999998|                        1.347|Århus|Denmark|  57.05N|   10.33E|\n",
      "|1744-07-01 00:00:00|            16.082|                        1.396|Århus|Denmark|  57.05N|   10.33E|\n",
      "|1744-08-01 00:00:00|              null|                         null|Århus|Denmark|  57.05N|   10.33E|\n",
      "+-------------------+------------------+-----------------------------+-----+-------+--------+---------+\n",
      "only showing top 10 rows\n",
      "\n"
     ]
    }
   ],
   "source": [
    "df_temp.show(10)"
   ]
  },
  {
   "cell_type": "code",
   "execution_count": 59,
   "metadata": {
    "editable": true
   },
   "outputs": [
    {
     "name": "stdout",
     "output_type": "stream",
     "text": [
      "+-------------------+------------------+-----------------------------+-----+-------+--------+---------+\n",
      "|                 dt|AverageTemperature|AverageTemperatureUncertainty| City|Country|Latitude|Longitude|\n",
      "+-------------------+------------------+-----------------------------+-----+-------+--------+---------+\n",
      "|1743-11-01 00:00:00|             6.068|           1.7369999999999999|Århus|Denmark|  57.05N|   10.33E|\n",
      "|1743-12-01 00:00:00|              null|                         null|Århus|Denmark|  57.05N|   10.33E|\n",
      "|1744-01-01 00:00:00|              null|                         null|Århus|Denmark|  57.05N|   10.33E|\n",
      "|1744-02-01 00:00:00|              null|                         null|Århus|Denmark|  57.05N|   10.33E|\n",
      "|1744-03-01 00:00:00|              null|                         null|Århus|Denmark|  57.05N|   10.33E|\n",
      "|1744-04-01 00:00:00|5.7879999999999985|           3.6239999999999997|Århus|Denmark|  57.05N|   10.33E|\n",
      "|1744-05-01 00:00:00|            10.644|           1.2830000000000001|Århus|Denmark|  57.05N|   10.33E|\n",
      "|1744-06-01 00:00:00|14.050999999999998|                        1.347|Århus|Denmark|  57.05N|   10.33E|\n",
      "|1744-07-01 00:00:00|            16.082|                        1.396|Århus|Denmark|  57.05N|   10.33E|\n",
      "|1744-08-01 00:00:00|              null|                         null|Århus|Denmark|  57.05N|   10.33E|\n",
      "+-------------------+------------------+-----------------------------+-----+-------+--------+---------+\n",
      "only showing top 10 rows\n",
      "\n"
     ]
    }
   ],
   "source": [
    "df_temp.show(10)"
   ]
  },
  {
   "cell_type": "code",
   "execution_count": 61,
   "metadata": {
    "editable": true
   },
   "outputs": [
    {
     "name": "stdout",
     "output_type": "stream",
     "text": [
      "+-------+------------------+-----------------------------+--------+-----------+--------+---------+\n",
      "|summary|AverageTemperature|AverageTemperatureUncertainty|    City|    Country|Latitude|Longitude|\n",
      "+-------+------------------+-----------------------------+--------+-----------+--------+---------+\n",
      "|  count|           8235082|                      8235082| 8599212|    8599212| 8599212|  8599212|\n",
      "|   mean|16.727432636250835|           1.0285747414536532|    null|       null|    null|     null|\n",
      "| stddev|10.353442482534422|           1.1297332887133706|    null|       null|    null|     null|\n",
      "|    min|-42.70399999999999|                        0.034|A Coruña|Afghanistan|   0.80N|    0.00W|\n",
      "|    max|            39.651|           15.395999999999999|  Ürümqi|   Zimbabwe|   8.84S|   99.91E|\n",
      "+-------+------------------+-----------------------------+--------+-----------+--------+---------+\n",
      "\n"
     ]
    }
   ],
   "source": [
    "df_temp.describe().show()"
   ]
  },
  {
   "cell_type": "code",
   "execution_count": 63,
   "metadata": {
    "editable": true
   },
   "outputs": [
    {
     "data": {
      "text/plain": [
       "[Row(Country='Chad'),\n",
       " Row(Country='Russia'),\n",
       " Row(Country='Paraguay'),\n",
       " Row(Country='Yemen'),\n",
       " Row(Country='Senegal'),\n",
       " Row(Country='Sweden'),\n",
       " Row(Country='Guyana'),\n",
       " Row(Country='Burma'),\n",
       " Row(Country='Philippines'),\n",
       " Row(Country='Eritrea'),\n",
       " Row(Country='Djibouti'),\n",
       " Row(Country='Malaysia'),\n",
       " Row(Country='Singapore'),\n",
       " Row(Country='Turkey'),\n",
       " Row(Country='Malawi'),\n",
       " Row(Country='Iraq'),\n",
       " Row(Country='Germany'),\n",
       " Row(Country='Afghanistan'),\n",
       " Row(Country='Cambodia'),\n",
       " Row(Country='Jordan'),\n",
       " Row(Country='Rwanda'),\n",
       " Row(Country='Sudan'),\n",
       " Row(Country='France'),\n",
       " Row(Country='Greece'),\n",
       " Row(Country='Sri Lanka'),\n",
       " Row(Country='Taiwan'),\n",
       " Row(Country='Algeria'),\n",
       " Row(Country='Equatorial Guinea'),\n",
       " Row(Country='Togo'),\n",
       " Row(Country='Slovakia'),\n",
       " Row(Country='Reunion'),\n",
       " Row(Country='Argentina'),\n",
       " Row(Country='Belgium'),\n",
       " Row(Country='Angola'),\n",
       " Row(Country='Ecuador'),\n",
       " Row(Country='Qatar'),\n",
       " Row(Country='Lesotho'),\n",
       " Row(Country='Madagascar'),\n",
       " Row(Country='Albania'),\n",
       " Row(Country='Finland'),\n",
       " Row(Country='Ghana'),\n",
       " Row(Country='Nicaragua'),\n",
       " Row(Country='Benin'),\n",
       " Row(Country='Peru'),\n",
       " Row(Country='Sierra Leone'),\n",
       " Row(Country='China'),\n",
       " Row(Country='United States'),\n",
       " Row(Country='India'),\n",
       " Row(Country='Bahamas'),\n",
       " Row(Country='Belarus'),\n",
       " Row(Country='Somalia'),\n",
       " Row(Country='Chile'),\n",
       " Row(Country='Puerto Rico'),\n",
       " Row(Country='Tajikistan'),\n",
       " Row(Country='Croatia'),\n",
       " Row(Country='Burundi'),\n",
       " Row(Country='Nigeria'),\n",
       " Row(Country='Bolivia'),\n",
       " Row(Country='Gabon'),\n",
       " Row(Country='Italy'),\n",
       " Row(Country='Suriname'),\n",
       " Row(Country='Lithuania'),\n",
       " Row(Country='Turkmenistan'),\n",
       " Row(Country='Norway'),\n",
       " Row(Country='Spain'),\n",
       " Row(Country='Cuba'),\n",
       " Row(Country='Mauritania'),\n",
       " Row(Country='Denmark'),\n",
       " Row(Country='Central African Republic'),\n",
       " Row(Country='Niger'),\n",
       " Row(Country='Bangladesh'),\n",
       " Row(Country='Iran'),\n",
       " Row(Country='Ireland'),\n",
       " Row(Country='Congo'),\n",
       " Row(Country='Thailand'),\n",
       " Row(Country='Swaziland'),\n",
       " Row(Country='Laos'),\n",
       " Row(Country='Morocco'),\n",
       " Row(Country='Panama'),\n",
       " Row(Country='Hong Kong'),\n",
       " Row(Country='Venezuela'),\n",
       " Row(Country='Ukraine'),\n",
       " Row(Country='Israel'),\n",
       " Row(Country='Iceland'),\n",
       " Row(Country='Oman'),\n",
       " Row(Country='South Korea'),\n",
       " Row(Country='Cyprus'),\n",
       " Row(Country='Uruguay'),\n",
       " Row(Country='Mexico'),\n",
       " Row(Country='Zimbabwe'),\n",
       " Row(Country='Montenegro'),\n",
       " Row(Country='Estonia'),\n",
       " Row(Country='Georgia'),\n",
       " Row(Country='Indonesia'),\n",
       " Row(Country=\"Côte D'Ivoire\"),\n",
       " Row(Country='Guatemala'),\n",
       " Row(Country='Mongolia'),\n",
       " Row(Country='Libya'),\n",
       " Row(Country='Azerbaijan'),\n",
       " Row(Country='Armenia'),\n",
       " Row(Country='Tunisia'),\n",
       " Row(Country='Liberia'),\n",
       " Row(Country='Syria'),\n",
       " Row(Country='Honduras'),\n",
       " Row(Country='Saudi Arabia'),\n",
       " Row(Country='Uganda'),\n",
       " Row(Country='Namibia'),\n",
       " Row(Country='Switzerland'),\n",
       " Row(Country='Zambia'),\n",
       " Row(Country='Ethiopia'),\n",
       " Row(Country='Latvia'),\n",
       " Row(Country='Jamaica'),\n",
       " Row(Country='United Arab Emirates'),\n",
       " Row(Country='Guinea'),\n",
       " Row(Country='Canada'),\n",
       " Row(Country='Uzbekistan'),\n",
       " Row(Country='Macedonia'),\n",
       " Row(Country='Mozambique'),\n",
       " Row(Country='Czech Republic'),\n",
       " Row(Country='Brazil'),\n",
       " Row(Country='Gambia'),\n",
       " Row(Country='Kenya'),\n",
       " Row(Country='Lebanon'),\n",
       " Row(Country='Slovenia'),\n",
       " Row(Country='Dominican Republic'),\n",
       " Row(Country='Japan'),\n",
       " Row(Country='Tanzania'),\n",
       " Row(Country='Botswana'),\n",
       " Row(Country='New Zealand'),\n",
       " Row(Country='Haiti'),\n",
       " Row(Country='Poland'),\n",
       " Row(Country='Portugal'),\n",
       " Row(Country='Australia'),\n",
       " Row(Country='Cameroon'),\n",
       " Row(Country='Papua New Guinea'),\n",
       " Row(Country='Romania'),\n",
       " Row(Country='Bulgaria'),\n",
       " Row(Country='Nepal'),\n",
       " Row(Country='Austria'),\n",
       " Row(Country='Kazakhstan'),\n",
       " Row(Country='Egypt'),\n",
       " Row(Country='El Salvador'),\n",
       " Row(Country='Costa Rica'),\n",
       " Row(Country='Serbia'),\n",
       " Row(Country='South Africa'),\n",
       " Row(Country='Burkina Faso'),\n",
       " Row(Country='Bahrain'),\n",
       " Row(Country='Colombia'),\n",
       " Row(Country='Hungary'),\n",
       " Row(Country='Pakistan'),\n",
       " Row(Country='Guinea Bissau'),\n",
       " Row(Country='Bosnia And Herzegovina'),\n",
       " Row(Country='Mauritius'),\n",
       " Row(Country='United Kingdom'),\n",
       " Row(Country='Moldova'),\n",
       " Row(Country='Congo (Democratic Republic Of The)'),\n",
       " Row(Country='Vietnam'),\n",
       " Row(Country='Netherlands'),\n",
       " Row(Country='Mali')]"
      ]
     },
     "execution_count": 63,
     "metadata": {},
     "output_type": "execute_result"
    }
   ],
   "source": [
    "# find all unique country names in temperatures data\n",
    "df_temp.select('Country').distinct().collect()"
   ]
  },
  {
   "cell_type": "code",
   "execution_count": 9,
   "metadata": {
    "editable": true
   },
   "outputs": [
    {
     "name": "stdout",
     "output_type": "stream",
     "text": [
      "+-------------------+------------------+-----------------------------+-------+-------------+--------+---------+\n",
      "|                 dt|AverageTemperature|AverageTemperatureUncertainty|   City|      Country|Latitude|Longitude|\n",
      "+-------------------+------------------+-----------------------------+-------+-------------+--------+---------+\n",
      "|1820-01-01 00:00:00|2.1010000000000004|                        3.217|Abilene|United States|  32.95N|  100.53W|\n",
      "|1820-02-01 00:00:00|             6.926|                        2.853|Abilene|United States|  32.95N|  100.53W|\n",
      "|1820-03-01 00:00:00|            10.767|                        2.395|Abilene|United States|  32.95N|  100.53W|\n",
      "|1820-04-01 00:00:00|17.988999999999994|                        2.202|Abilene|United States|  32.95N|  100.53W|\n",
      "|1820-05-01 00:00:00|            21.809|                        2.036|Abilene|United States|  32.95N|  100.53W|\n",
      "|1820-06-01 00:00:00|            25.682|                        2.008|Abilene|United States|  32.95N|  100.53W|\n",
      "|1820-07-01 00:00:00|            26.268|           1.8019999999999998|Abilene|United States|  32.95N|  100.53W|\n",
      "|1820-08-01 00:00:00|            25.048|                        1.895|Abilene|United States|  32.95N|  100.53W|\n",
      "|1820-09-01 00:00:00|            22.435|           2.2159999999999997|Abilene|United States|  32.95N|  100.53W|\n",
      "|1820-10-01 00:00:00|             15.83|                        2.169|Abilene|United States|  32.95N|  100.53W|\n",
      "+-------------------+------------------+-----------------------------+-------+-------------+--------+---------+\n",
      "only showing top 10 rows\n",
      "\n"
     ]
    }
   ],
   "source": [
    "# extract all temperatures for united states\n",
    "df_temp_usa = df_temp[df_temp[\"Country\"] == \"United States\"]\n",
    "df_temp_usa.show(10)"
   ]
  },
  {
   "cell_type": "markdown",
   "metadata": {
    "editable": true
   },
   "source": [
    "## U.S Cities Demographic Data"
   ]
  },
  {
   "cell_type": "code",
   "execution_count": 10,
   "metadata": {
    "editable": true
   },
   "outputs": [
    {
     "name": "stdout",
     "output_type": "stream",
     "text": [
      "+----------------+-------------+----------+---------------+-----------------+----------------+------------------+------------+----------------------+----------+--------------------+-----+\n",
      "|            City|        State|Median Age|Male Population|Female Population|Total Population|Number of Veterans|Foreign-born|Average Household Size|State Code|                Race|Count|\n",
      "+----------------+-------------+----------+---------------+-----------------+----------------+------------------+------------+----------------------+----------+--------------------+-----+\n",
      "|   Silver Spring|     Maryland|      33.8|          40601|            41862|           82463|              1562|       30908|                   2.6|        MD|  Hispanic or Latino|25924|\n",
      "|          Quincy|Massachusetts|      41.0|          44129|            49500|           93629|              4147|       32935|                  2.39|        MA|               White|58723|\n",
      "|          Hoover|      Alabama|      38.5|          38040|            46799|           84839|              4819|        8229|                  2.58|        AL|               Asian| 4759|\n",
      "|Rancho Cucamonga|   California|      34.5|          88127|            87105|          175232|              5821|       33878|                  3.18|        CA|Black or African-...|24437|\n",
      "|          Newark|   New Jersey|      34.6|         138040|           143873|          281913|              5829|       86253|                  2.73|        NJ|               White|76402|\n",
      "+----------------+-------------+----------+---------------+-----------------+----------------+------------------+------------+----------------------+----------+--------------------+-----+\n",
      "only showing top 5 rows\n",
      "\n"
     ]
    }
   ],
   "source": [
    "# df_demographic_usa = pd.read_csv(\"./us-cities-demographics.csv\", delimiter=\";\")\n",
    "# df_demographic_usa.head(20)\n",
    "df_demographic_usa = spark.read.csv(\"./us-cities-demographics.csv\", inferSchema=True, header=True, sep=';')\n",
    "df_demographic_usa.show(5)"
   ]
  },
  {
   "cell_type": "code",
   "execution_count": 69,
   "metadata": {
    "editable": true
   },
   "outputs": [
    {
     "name": "stdout",
     "output_type": "stream",
     "text": [
      "root\n",
      " |-- City: string (nullable = true)\n",
      " |-- State: string (nullable = true)\n",
      " |-- Median Age: double (nullable = true)\n",
      " |-- Male Population: integer (nullable = true)\n",
      " |-- Female Population: integer (nullable = true)\n",
      " |-- Total Population: integer (nullable = true)\n",
      " |-- Number of Veterans: integer (nullable = true)\n",
      " |-- Foreign-born: integer (nullable = true)\n",
      " |-- Average Household Size: double (nullable = true)\n",
      " |-- State Code: string (nullable = true)\n",
      " |-- Race: string (nullable = true)\n",
      " |-- Count: integer (nullable = true)\n",
      "\n"
     ]
    }
   ],
   "source": [
    "df_demographic_usa.printSchema()"
   ]
  },
  {
   "cell_type": "markdown",
   "metadata": {
    "editable": true
   },
   "source": [
    "## Airport Codes Data"
   ]
  },
  {
   "cell_type": "code",
   "execution_count": 11,
   "metadata": {
    "editable": true
   },
   "outputs": [
    {
     "name": "stdout",
     "output_type": "stream",
     "text": [
      "+-----+-------------+--------------------+------------+---------+-----------+----------+------------+--------+---------+----------+--------------------+\n",
      "|ident|         type|                name|elevation_ft|continent|iso_country|iso_region|municipality|gps_code|iata_code|local_code|         coordinates|\n",
      "+-----+-------------+--------------------+------------+---------+-----------+----------+------------+--------+---------+----------+--------------------+\n",
      "|  00A|     heliport|   Total Rf Heliport|          11|       NA|         US|     US-PA|    Bensalem|     00A|     null|       00A|-74.9336013793945...|\n",
      "| 00AA|small_airport|Aero B Ranch Airport|        3435|       NA|         US|     US-KS|       Leoti|    00AA|     null|      00AA|-101.473911, 38.7...|\n",
      "| 00AK|small_airport|        Lowell Field|         450|       NA|         US|     US-AK|Anchor Point|    00AK|     null|      00AK|-151.695999146, 5...|\n",
      "| 00AL|small_airport|        Epps Airpark|         820|       NA|         US|     US-AL|     Harvest|    00AL|     null|      00AL|-86.7703018188476...|\n",
      "| 00AR|       closed|Newport Hospital ...|         237|       NA|         US|     US-AR|     Newport|    null|     null|      null| -91.254898, 35.6087|\n",
      "+-----+-------------+--------------------+------------+---------+-----------+----------+------------+--------+---------+----------+--------------------+\n",
      "only showing top 5 rows\n",
      "\n"
     ]
    }
   ],
   "source": [
    "df_airport_codes = spark.read.csv(\"./airport-codes_csv.csv\", header=True, inferSchema=True)\n",
    "df_airport_codes.show(5)"
   ]
  },
  {
   "cell_type": "markdown",
   "metadata": {
    "editable": true
   },
   "source": [
    "### Step 2: Explore and Assess the Data\n",
    "#### Explore the Data \n",
    "Identify data quality issues, like missing values, duplicate data, etc."
   ]
  },
  {
   "cell_type": "markdown",
   "metadata": {
    "editable": true
   },
   "source": [
    "## Airport Codes Data"
   ]
  },
  {
   "cell_type": "code",
   "execution_count": 12,
   "metadata": {
    "editable": true
   },
   "outputs": [
    {
     "name": "stdout",
     "output_type": "stream",
     "text": [
      "root\n",
      " |-- ident: string (nullable = true)\n",
      " |-- type: string (nullable = true)\n",
      " |-- name: string (nullable = true)\n",
      " |-- elevation_ft: integer (nullable = true)\n",
      " |-- continent: string (nullable = true)\n",
      " |-- iso_country: string (nullable = true)\n",
      " |-- iso_region: string (nullable = true)\n",
      " |-- municipality: string (nullable = true)\n",
      " |-- gps_code: string (nullable = true)\n",
      " |-- iata_code: string (nullable = true)\n",
      " |-- local_code: string (nullable = true)\n",
      " |-- coordinates: string (nullable = true)\n",
      "\n"
     ]
    }
   ],
   "source": [
    "df_airport_codes.printSchema()"
   ]
  },
  {
   "cell_type": "code",
   "execution_count": 75,
   "metadata": {
    "editable": true
   },
   "outputs": [],
   "source": [
    "null_count_airports = df_airport_codes.select([count(when(isnan(c) | col(c).isNull(), c)).alias(c) for c in df_airport_codes.columns])"
   ]
  },
  {
   "cell_type": "code",
   "execution_count": 77,
   "metadata": {
    "editable": true
   },
   "outputs": [],
   "source": [
    "null_count_airport = pd.DataFrame({'cols':null_count_airports.toPandas().columns.tolist(),'values':null_count_airports.toPandas().values[0].tolist()})"
   ]
  },
  {
   "cell_type": "code",
   "execution_count": 79,
   "metadata": {
    "editable": true
   },
   "outputs": [
    {
     "data": {
      "image/png": "[encoded data removed]",
      "text/plain": [
       "<matplotlib.figure.Figure at 0x7fa53aa04668>"
      ]
     },
     "metadata": {},
     "output_type": "display_data"
    }
   ],
   "source": [
    "plot_missing_values(null_count_airport,df_airport_codes)"
   ]
  },
  {
   "cell_type": "markdown",
   "metadata": {
    "editable": true
   },
   "source": [
    "## I94 Immigration Data"
   ]
  },
  {
   "cell_type": "code",
   "execution_count": 81,
   "metadata": {
    "editable": true
   },
   "outputs": [
    {
     "name": "stdout",
     "output_type": "stream",
     "text": [
      "root\n",
      " |-- cicid: double (nullable = true)\n",
      " |-- i94yr: double (nullable = true)\n",
      " |-- i94mon: double (nullable = true)\n",
      " |-- i94cit: double (nullable = true)\n",
      " |-- i94res: double (nullable = true)\n",
      " |-- i94port: string (nullable = true)\n",
      " |-- arrdate: double (nullable = true)\n",
      " |-- i94mode: double (nullable = true)\n",
      " |-- i94addr: string (nullable = true)\n",
      " |-- depdate: double (nullable = true)\n",
      " |-- i94bir: double (nullable = true)\n",
      " |-- i94visa: double (nullable = true)\n",
      " |-- count: double (nullable = true)\n",
      " |-- dtadfile: string (nullable = true)\n",
      " |-- visapost: string (nullable = true)\n",
      " |-- entdepa: string (nullable = true)\n",
      " |-- entdepd: string (nullable = true)\n",
      " |-- matflag: string (nullable = true)\n",
      " |-- biryear: double (nullable = true)\n",
      " |-- dtaddto: string (nullable = true)\n",
      " |-- gender: string (nullable = true)\n",
      " |-- airline: string (nullable = true)\n",
      " |-- admnum: double (nullable = true)\n",
      " |-- fltno: string (nullable = true)\n",
      " |-- visatype: string (nullable = true)\n",
      "\n"
     ]
    }
   ],
   "source": [
    "df_imm94.printSchema()"
   ]
  },
  {
   "cell_type": "code",
   "execution_count": 82,
   "metadata": {
    "editable": true
   },
   "outputs": [
    {
     "data": {
      "text/html": [
       "<div>\n",
       "<style scoped>\n",
       "    .dataframe tbody tr th:only-of-type {\n",
       "        vertical-align: middle;\n",
       "    }\n",
       "\n",
       "    .dataframe tbody tr th {\n",
       "        vertical-align: top;\n",
       "    }\n",
       "\n",
       "    .dataframe thead th {\n",
       "        text-align: right;\n",
       "    }\n",
       "</style>\n",
       "<table border=\"1\" class=\"dataframe\">\n",
       "  <thead>\n",
       "    <tr style=\"text-align: right;\">\n",
       "      <th></th>\n",
       "      <th>cicid</th>\n",
       "      <th>i94yr</th>\n",
       "      <th>i94mon</th>\n",
       "      <th>i94cit</th>\n",
       "      <th>i94res</th>\n",
       "      <th>i94port</th>\n",
       "      <th>arrdate</th>\n",
       "      <th>i94mode</th>\n",
       "      <th>i94addr</th>\n",
       "      <th>depdate</th>\n",
       "      <th>...</th>\n",
       "      <th>entdepa</th>\n",
       "      <th>entdepd</th>\n",
       "      <th>matflag</th>\n",
       "      <th>biryear</th>\n",
       "      <th>dtaddto</th>\n",
       "      <th>gender</th>\n",
       "      <th>airline</th>\n",
       "      <th>admnum</th>\n",
       "      <th>fltno</th>\n",
       "      <th>visatype</th>\n",
       "    </tr>\n",
       "  </thead>\n",
       "  <tbody>\n",
       "    <tr>\n",
       "      <th>0</th>\n",
       "      <td>299.0</td>\n",
       "      <td>2016.0</td>\n",
       "      <td>4.0</td>\n",
       "      <td>103.0</td>\n",
       "      <td>103.0</td>\n",
       "      <td>NYC</td>\n",
       "      <td>20545.0</td>\n",
       "      <td>1.0</td>\n",
       "      <td>NY</td>\n",
       "      <td>20550.0</td>\n",
       "      <td>...</td>\n",
       "      <td>O</td>\n",
       "      <td>O</td>\n",
       "      <td>M</td>\n",
       "      <td>1962.0</td>\n",
       "      <td>06292016</td>\n",
       "      <td>None</td>\n",
       "      <td>OS</td>\n",
       "      <td>5.542587e+10</td>\n",
       "      <td>00087</td>\n",
       "      <td>WT</td>\n",
       "    </tr>\n",
       "    <tr>\n",
       "      <th>1</th>\n",
       "      <td>305.0</td>\n",
       "      <td>2016.0</td>\n",
       "      <td>4.0</td>\n",
       "      <td>103.0</td>\n",
       "      <td>103.0</td>\n",
       "      <td>NYC</td>\n",
       "      <td>20545.0</td>\n",
       "      <td>1.0</td>\n",
       "      <td>NY</td>\n",
       "      <td>20555.0</td>\n",
       "      <td>...</td>\n",
       "      <td>O</td>\n",
       "      <td>O</td>\n",
       "      <td>M</td>\n",
       "      <td>1953.0</td>\n",
       "      <td>06292016</td>\n",
       "      <td>None</td>\n",
       "      <td>OS</td>\n",
       "      <td>5.542582e+10</td>\n",
       "      <td>00087</td>\n",
       "      <td>WT</td>\n",
       "    </tr>\n",
       "    <tr>\n",
       "      <th>2</th>\n",
       "      <td>496.0</td>\n",
       "      <td>2016.0</td>\n",
       "      <td>4.0</td>\n",
       "      <td>103.0</td>\n",
       "      <td>103.0</td>\n",
       "      <td>CHI</td>\n",
       "      <td>20545.0</td>\n",
       "      <td>1.0</td>\n",
       "      <td>IL</td>\n",
       "      <td>20548.0</td>\n",
       "      <td>...</td>\n",
       "      <td>O</td>\n",
       "      <td>O</td>\n",
       "      <td>M</td>\n",
       "      <td>1952.0</td>\n",
       "      <td>06292016</td>\n",
       "      <td>None</td>\n",
       "      <td>OS</td>\n",
       "      <td>5.542862e+10</td>\n",
       "      <td>00065</td>\n",
       "      <td>WB</td>\n",
       "    </tr>\n",
       "    <tr>\n",
       "      <th>3</th>\n",
       "      <td>558.0</td>\n",
       "      <td>2016.0</td>\n",
       "      <td>4.0</td>\n",
       "      <td>103.0</td>\n",
       "      <td>103.0</td>\n",
       "      <td>SFR</td>\n",
       "      <td>20545.0</td>\n",
       "      <td>1.0</td>\n",
       "      <td>CA</td>\n",
       "      <td>20547.0</td>\n",
       "      <td>...</td>\n",
       "      <td>G</td>\n",
       "      <td>O</td>\n",
       "      <td>M</td>\n",
       "      <td>1974.0</td>\n",
       "      <td>06292016</td>\n",
       "      <td>M</td>\n",
       "      <td>LH</td>\n",
       "      <td>5.543331e+10</td>\n",
       "      <td>00454</td>\n",
       "      <td>WB</td>\n",
       "    </tr>\n",
       "    <tr>\n",
       "      <th>4</th>\n",
       "      <td>596.0</td>\n",
       "      <td>2016.0</td>\n",
       "      <td>4.0</td>\n",
       "      <td>103.0</td>\n",
       "      <td>103.0</td>\n",
       "      <td>NAS</td>\n",
       "      <td>20545.0</td>\n",
       "      <td>1.0</td>\n",
       "      <td>FL</td>\n",
       "      <td>20547.0</td>\n",
       "      <td>...</td>\n",
       "      <td>G</td>\n",
       "      <td>N</td>\n",
       "      <td>M</td>\n",
       "      <td>1992.0</td>\n",
       "      <td>06292016</td>\n",
       "      <td>M</td>\n",
       "      <td>UP</td>\n",
       "      <td>5.540611e+10</td>\n",
       "      <td>00221</td>\n",
       "      <td>WT</td>\n",
       "    </tr>\n",
       "  </tbody>\n",
       "</table>\n",
       "<p>5 rows × 25 columns</p>\n",
       "</div>"
      ],
      "text/plain": [
       "   cicid   i94yr  i94mon  i94cit  i94res i94port  arrdate  i94mode i94addr  \\\n",
       "0  299.0  2016.0     4.0   103.0   103.0     NYC  20545.0      1.0      NY   \n",
       "1  305.0  2016.0     4.0   103.0   103.0     NYC  20545.0      1.0      NY   \n",
       "2  496.0  2016.0     4.0   103.0   103.0     CHI  20545.0      1.0      IL   \n",
       "3  558.0  2016.0     4.0   103.0   103.0     SFR  20545.0      1.0      CA   \n",
       "4  596.0  2016.0     4.0   103.0   103.0     NAS  20545.0      1.0      FL   \n",
       "\n",
       "   depdate   ...     entdepa  entdepd  matflag biryear   dtaddto gender  \\\n",
       "0  20550.0   ...           O        O        M  1962.0  06292016   None   \n",
       "1  20555.0   ...           O        O        M  1953.0  06292016   None   \n",
       "2  20548.0   ...           O        O        M  1952.0  06292016   None   \n",
       "3  20547.0   ...           G        O        M  1974.0  06292016      M   \n",
       "4  20547.0   ...           G        N        M  1992.0  06292016      M   \n",
       "\n",
       "  airline        admnum  fltno visatype  \n",
       "0      OS  5.542587e+10  00087       WT  \n",
       "1      OS  5.542582e+10  00087       WT  \n",
       "2      OS  5.542862e+10  00065       WB  \n",
       "3      LH  5.543331e+10  00454       WB  \n",
       "4      UP  5.540611e+10  00221       WT  \n",
       "\n",
       "[5 rows x 25 columns]"
      ]
     },
     "execution_count": 82,
     "metadata": {},
     "output_type": "execute_result"
    }
   ],
   "source": [
    "df_imm94.limit(5).toPandas()"
   ]
  },
  {
   "cell_type": "code",
   "execution_count": 83,
   "metadata": {
    "editable": true
   },
   "outputs": [],
   "source": [
    "null_count = df_imm94.select([count(when(isnan(c) | col(c).isNull(), c)).alias(c) for c in df_imm94.columns])"
   ]
  },
  {
   "cell_type": "code",
   "execution_count": 84,
   "metadata": {
    "editable": true
   },
   "outputs": [],
   "source": [
    "null_count = pd.DataFrame({'cols':null_count.toPandas().columns.tolist(),'values':null_count.toPandas().values[0].tolist()})"
   ]
  },
  {
   "cell_type": "code",
   "execution_count": 85,
   "metadata": {
    "editable": true
   },
   "outputs": [
    {
     "data": {
      "image/png": "[encoded data removed]",
      "text/plain": [
       "<matplotlib.figure.Figure at 0x7fa53b8e1400>"
      ]
     },
     "metadata": {},
     "output_type": "display_data"
    }
   ],
   "source": [
    "plot_missing_values(null_count,df_imm94)"
   ]
  },
  {
   "cell_type": "markdown",
   "metadata": {
    "editable": true
   },
   "source": [
    "## World Temperatures Data"
   ]
  },
  {
   "cell_type": "code",
   "execution_count": 86,
   "metadata": {
    "editable": true
   },
   "outputs": [],
   "source": [
    "df_temps = df_temp_usa.withColumn(\"dt\",col(\"dt\").cast(StringType()))"
   ]
  },
  {
   "cell_type": "code",
   "execution_count": 87,
   "metadata": {
    "editable": true
   },
   "outputs": [],
   "source": [
    "null_count_temp = df_temps.select([count(when(isnan(c) | col(c).isNull(), c)).alias(c) for c in df_temps.columns])"
   ]
  },
  {
   "cell_type": "code",
   "execution_count": 88,
   "metadata": {
    "editable": true
   },
   "outputs": [],
   "source": [
    "null_count_temp  = pd.DataFrame({'cols':null_count_temp.toPandas().columns.tolist(),'values':null_count_temp.toPandas().values[0].tolist()})"
   ]
  },
  {
   "cell_type": "code",
   "execution_count": 89,
   "metadata": {
    "editable": true
   },
   "outputs": [
    {
     "data": {
      "image/png": "[encoded data removed]",
      "text/plain": [
       "<matplotlib.figure.Figure at 0x7fa53a73ad30>"
      ]
     },
     "metadata": {},
     "output_type": "display_data"
    }
   ],
   "source": [
    "plot_missing_values(null_count_temp,df_temp)"
   ]
  },
  {
   "cell_type": "markdown",
   "metadata": {
    "editable": true
   },
   "source": [
    "## U.S Cities Demographic Data"
   ]
  },
  {
   "cell_type": "code",
   "execution_count": 90,
   "metadata": {
    "editable": true
   },
   "outputs": [
    {
     "name": "stdout",
     "output_type": "stream",
     "text": [
      "root\n",
      " |-- city: string (nullable = true)\n",
      " |-- state: string (nullable = true)\n",
      " |-- median_age: double (nullable = true)\n",
      " |-- male_population: integer (nullable = true)\n",
      " |-- female_population: integer (nullable = true)\n",
      " |-- number_of_veterans: integer (nullable = true)\n",
      " |-- foreign_born: integer (nullable = true)\n",
      " |-- average_household_size: double (nullable = true)\n",
      " |-- state_code: string (nullable = true)\n",
      " |-- race: string (nullable = true)\n",
      " |-- count: integer (nullable = true)\n",
      "\n"
     ]
    }
   ],
   "source": [
    "df_demographic_usa.printSchema()"
   ]
  },
  {
   "cell_type": "code",
   "execution_count": 91,
   "metadata": {
    "editable": true
   },
   "outputs": [],
   "source": [
    "null_count_demographic = df_demographic_usa.select([count(when(isnan(c) | col(c).isNull(), c)).alias(c) for c in df_demographic_usa.columns])"
   ]
  },
  {
   "cell_type": "code",
   "execution_count": 92,
   "metadata": {
    "editable": true
   },
   "outputs": [],
   "source": [
    "null_count_demographic  = pd.DataFrame({'cols':null_count_demographic.toPandas().columns.tolist(),'values':null_count_demographic.toPandas().values[0].tolist()})"
   ]
  },
  {
   "cell_type": "code",
   "execution_count": 93,
   "metadata": {
    "editable": true
   },
   "outputs": [
    {
     "data": {
      "image/png": "[encoded data removed]",
      "text/plain": [
       "<matplotlib.figure.Figure at 0x7fa53b8e1e10>"
      ]
     },
     "metadata": {},
     "output_type": "display_data"
    }
   ],
   "source": [
    "plot_missing_values(null_count_demographic,df_demographic_usa)"
   ]
  },
  {
   "cell_type": "markdown",
   "metadata": {
    "editable": true
   },
   "source": [
    "## Cleaning Steps\n",
    "steps necessary to clean the data"
   ]
  },
  {
   "cell_type": "markdown",
   "metadata": {
    "editable": true
   },
   "source": [
    "## I94 Immigration Data"
   ]
  },
  {
   "cell_type": "markdown",
   "metadata": {
    "editable": true
   },
   "source": [
    "#### Convert arrive_date, departure_date in immigration data to pandad datetime format instead of SAS format "
   ]
  },
  {
   "cell_type": "code",
   "execution_count": 94,
   "metadata": {
    "editable": true
   },
   "outputs": [
    {
     "data": {
      "text/plain": [
       "[Row(arrdate=20574.0),\n",
       " Row(arrdate=20574.0),\n",
       " Row(arrdate=20574.0),\n",
       " Row(arrdate=20574.0),\n",
       " Row(arrdate=20574.0)]"
      ]
     },
     "execution_count": 94,
     "metadata": {},
     "output_type": "execute_result"
    }
   ],
   "source": [
    "df_imm94.select('arrdate').take(5)"
   ]
  },
  {
   "cell_type": "code",
   "execution_count": 95,
   "metadata": {
    "editable": true
   },
   "outputs": [],
   "source": [
    "toInt = udf(lambda x: int(x) if x!=None else x, IntegerType())\n",
    "\n",
    "for colname, coltype in df_imm94.dtypes:\n",
    "    if coltype == 'double':\n",
    "        df_imm94 = df_imm94.withColumn(colname, toInt(colname))"
   ]
  },
  {
   "cell_type": "code",
   "execution_count": 96,
   "metadata": {
    "editable": true
   },
   "outputs": [],
   "source": [
    "@udf(returnType=TimestampType())\n",
    "def to_timestamp_udf(x):\n",
    "    try:\n",
    "        return pd.to_timedelta(x, unit='D') + pd.Timestamp('1960-1-1')\n",
    "    except:\n",
    "        return pd.Timestamp('1900-1-1')\n",
    "\n",
    "df_imm94 = df_imm94.withColumn('arrdate', to_date(to_timestamp_udf(col('arrdate'))))\\\n",
    "               .withColumn('depdate', to_date(to_timestamp_udf(col('depdate'))))\n"
   ]
  },
  {
   "cell_type": "code",
   "execution_count": 97,
   "metadata": {
    "editable": true
   },
   "outputs": [
    {
     "data": {
      "text/plain": [
       "[Row(arrdate=datetime.date(2016, 4, 30)),\n",
       " Row(arrdate=datetime.date(2016, 4, 30)),\n",
       " Row(arrdate=datetime.date(2016, 4, 30)),\n",
       " Row(arrdate=datetime.date(2016, 4, 30)),\n",
       " Row(arrdate=datetime.date(2016, 4, 30))]"
      ]
     },
     "execution_count": 97,
     "metadata": {},
     "output_type": "execute_result"
    }
   ],
   "source": [
    "df_imm94.select('arrdate').take(5)"
   ]
  },
  {
   "cell_type": "code",
   "execution_count": 98,
   "metadata": {
    "editable": true
   },
   "outputs": [
    {
     "data": {
      "text/plain": [
       "3096313"
      ]
     },
     "execution_count": 98,
     "metadata": {},
     "output_type": "execute_result"
    }
   ],
   "source": [
    "df_imm94.count()"
   ]
  },
  {
   "cell_type": "markdown",
   "metadata": {
    "editable": true
   },
   "source": [
    "#### Drop all columns with 90% ore more missing values."
   ]
  },
  {
   "cell_type": "code",
   "execution_count": 99,
   "metadata": {
    "editable": true
   },
   "outputs": [
    {
     "data": {
      "text/plain": [
       "[]"
      ]
     },
     "execution_count": 99,
     "metadata": {},
     "output_type": "execute_result"
    }
   ],
   "source": [
    "columns_missing_values_90(null_count,df_imm94)"
   ]
  },
  {
   "cell_type": "code",
   "execution_count": 100,
   "metadata": {
    "editable": true
   },
   "outputs": [],
   "source": [
    "df_imm94 = df_imm94.drop(*columns_missing_values_90(null_count,df_imm94))"
   ]
  },
  {
   "cell_type": "code",
   "execution_count": 101,
   "metadata": {
    "editable": true
   },
   "outputs": [
    {
     "data": {
      "text/plain": [
       "['cicid',\n",
       " 'i94yr',\n",
       " 'i94mon',\n",
       " 'i94cit',\n",
       " 'i94res',\n",
       " 'i94port',\n",
       " 'arrdate',\n",
       " 'i94mode',\n",
       " 'i94addr',\n",
       " 'depdate',\n",
       " 'i94bir',\n",
       " 'i94visa',\n",
       " 'count',\n",
       " 'dtadfile',\n",
       " 'visapost',\n",
       " 'entdepa',\n",
       " 'entdepd',\n",
       " 'matflag',\n",
       " 'biryear',\n",
       " 'dtaddto',\n",
       " 'gender',\n",
       " 'airline',\n",
       " 'admnum',\n",
       " 'fltno',\n",
       " 'visatype']"
      ]
     },
     "execution_count": 101,
     "metadata": {},
     "output_type": "execute_result"
    }
   ],
   "source": [
    "df_imm94.columns"
   ]
  },
  {
   "cell_type": "code",
   "execution_count": 102,
   "metadata": {
    "editable": true
   },
   "outputs": [
    {
     "data": {
      "text/plain": [
       "3096313"
      ]
     },
     "execution_count": 102,
     "metadata": {},
     "output_type": "execute_result"
    }
   ],
   "source": [
    "df_imm94.count()"
   ]
  },
  {
   "cell_type": "markdown",
   "metadata": {
    "editable": true
   },
   "source": [
    "#### Drop duplicate rows"
   ]
  },
  {
   "cell_type": "code",
   "execution_count": 103,
   "metadata": {
    "editable": true
   },
   "outputs": [],
   "source": [
    "df_imm94 = df_imm94.dropDuplicates(['cicid'])"
   ]
  },
  {
   "cell_type": "code",
   "execution_count": 104,
   "metadata": {
    "editable": true
   },
   "outputs": [
    {
     "name": "stdout",
     "output_type": "stream",
     "text": [
      "+-----+-----+------+------+------+-------+----------+-------+-------+----------+------+-------+-----+--------+--------+-------+-------+-------+-------+--------+------+-------+----------+-----+--------+\n",
      "|cicid|i94yr|i94mon|i94cit|i94res|i94port|   arrdate|i94mode|i94addr|   depdate|i94bir|i94visa|count|dtadfile|visapost|entdepa|entdepd|matflag|biryear| dtaddto|gender|airline|    admnum|fltno|visatype|\n",
      "+-----+-----+------+------+------+-------+----------+-------+-------+----------+------+-------+-----+--------+--------+-------+-------+-------+-------+--------+------+-------+----------+-----+--------+\n",
      "|  148| 2016|     4|   103|   103|    NEW|2016-04-01|      1|     NY|2016-04-08|    21|      2|    1|20160401|    null|      G|      O|      M|   1995|06292016|     F|     OS|-412600015|00089|      WT|\n",
      "|  463| 2016|     4|   103|   103|    MIA|2016-04-01|      1|     FL|2016-04-02|    25|      2|    1|20160401|    null|      O|      R|      M|   1991|06292016|  null|     OS|-405559115|00097|      WT|\n",
      "|  471| 2016|     4|   103|   103|    MIA|2016-04-01|      2|   null|2016-04-03|    63|      2|    1|20160401|    null|      G|      O|      M|   1953|06292016|     M|    VES|-425961415|91285|      WT|\n",
      "|  496| 2016|     4|   103|   103|    CHI|2016-04-01|      1|     IL|2016-04-04|    64|      1|    1|20160401|    null|      O|      O|      M|   1952|06292016|  null|     OS|-405951515|00065|      WB|\n",
      "|  833| 2016|     4|   104|   104|    BOS|2016-04-01|      1|     NY|2016-04-09|    16|      2|    1|20160401|    null|      G|      O|      M|   2000|06292016|     F|     FI|-381466415|00631|      WT|\n",
      "| 1088| 2016|     4|   104|   104|    NEW|2016-04-01|      1|     NY|2016-04-08|    43|      2|    1|20160401|    null|      G|      O|      M|   1973|06292016|     F|     DL|-387630015|00149|      WT|\n",
      "| 1238| 2016|     4|   104|   104|    NYC|2016-04-01|      1|     FL|2016-04-09|    10|      2|    1|20160401|    null|      G|      O|      M|   2006|06292016|     M|     AF|-391139015|00006|      WT|\n",
      "| 1342| 2016|     4|   104|   104|    DEN|2016-04-01|      1|     NY|2016-04-06|    50|      2|    1|20160401|    null|      G|      O|      M|   1966|06292016|     M|     AF|-422447815|00022|      WT|\n",
      "| 1580| 2016|     4|   104|   104|    LOS|2016-04-01|      1|     CA|2016-04-10|    33|      2|    1|20160401|    null|      G|      O|      M|   1983|06292016|     F|     AA|-385463015|00109|      WT|\n",
      "| 1591| 2016|     4|   104|   104|    LOS|2016-04-01|      1|     CA|2016-04-15|    23|      2|    1|20160401|    null|      G|      O|      M|   1993|06292016|     F|     LH|-396958915|00456|      WT|\n",
      "+-----+-----+------+------+------+-------+----------+-------+-------+----------+------+-------+-----+--------+--------+-------+-------+-------+-------+--------+------+-------+----------+-----+--------+\n",
      "only showing top 10 rows\n",
      "\n"
     ]
    }
   ],
   "source": [
    "df_imm94.show(10)"
   ]
  },
  {
   "cell_type": "markdown",
   "metadata": {
    "editable": true
   },
   "source": [
    "## World Temperatures Data "
   ]
  },
  {
   "cell_type": "markdown",
   "metadata": {
    "editable": true
   },
   "source": [
    "#### Get list of columns that has 90% or more of missing values"
   ]
  },
  {
   "cell_type": "code",
   "execution_count": 105,
   "metadata": {
    "editable": true
   },
   "outputs": [
    {
     "data": {
      "text/plain": [
       "[]"
      ]
     },
     "execution_count": 105,
     "metadata": {},
     "output_type": "execute_result"
    }
   ],
   "source": [
    "columns_missing_values_90(null_count_temp,df_temp)"
   ]
  },
  {
   "cell_type": "markdown",
   "metadata": {
    "editable": true
   },
   "source": [
    "#### Drop rows with missing average temperature\n"
   ]
  },
  {
   "cell_type": "code",
   "execution_count": 106,
   "metadata": {
    "editable": true
   },
   "outputs": [],
   "source": [
    "df_temp = df_temp.dropna(subset=['AverageTemperature'])"
   ]
  },
  {
   "cell_type": "markdown",
   "metadata": {
    "editable": true
   },
   "source": [
    "#### drop duplicate rows"
   ]
  },
  {
   "cell_type": "code",
   "execution_count": 107,
   "metadata": {
    "editable": true
   },
   "outputs": [],
   "source": [
    "df_temp = df_temp.drop_duplicates(subset=['dt', 'City', 'Country'])"
   ]
  },
  {
   "cell_type": "markdown",
   "metadata": {
    "editable": true
   },
   "source": [
    "## U.S Cities Demographic Data"
   ]
  },
  {
   "cell_type": "markdown",
   "metadata": {
    "editable": true
   },
   "source": [
    "#### get list of columns that has 90% or more of missing values"
   ]
  },
  {
   "cell_type": "code",
   "execution_count": 108,
   "metadata": {
    "editable": true
   },
   "outputs": [
    {
     "data": {
      "text/plain": [
       "[]"
      ]
     },
     "execution_count": 108,
     "metadata": {},
     "output_type": "execute_result"
    }
   ],
   "source": [
    "columns_missing_values_90(null_count_demographic,df_demographic_usa)"
   ]
  },
  {
   "cell_type": "code",
   "execution_count": 109,
   "metadata": {
    "editable": true
   },
   "outputs": [
    {
     "data": {
      "text/plain": [
       "2891"
      ]
     },
     "execution_count": 109,
     "metadata": {},
     "output_type": "execute_result"
    }
   ],
   "source": [
    "df_demographic_usa.count()"
   ]
  },
  {
   "cell_type": "code",
   "execution_count": 110,
   "metadata": {
    "editable": true
   },
   "outputs": [
    {
     "name": "stdout",
     "output_type": "stream",
     "text": [
      "root\n",
      " |-- city: string (nullable = true)\n",
      " |-- state: string (nullable = true)\n",
      " |-- median_age: double (nullable = true)\n",
      " |-- male_population: integer (nullable = true)\n",
      " |-- female_population: integer (nullable = true)\n",
      " |-- number_of_veterans: integer (nullable = true)\n",
      " |-- foreign_born: integer (nullable = true)\n",
      " |-- average_household_size: double (nullable = true)\n",
      " |-- state_code: string (nullable = true)\n",
      " |-- race: string (nullable = true)\n",
      " |-- count: integer (nullable = true)\n",
      "\n"
     ]
    }
   ],
   "source": [
    "df_demographic_usa.printSchema()"
   ]
  },
  {
   "cell_type": "code",
   "execution_count": null,
   "metadata": {
    "editable": true
   },
   "outputs": [],
   "source": [
    "df_demographic_usa.printSchema()"
   ]
  },
  {
   "cell_type": "markdown",
   "metadata": {
    "editable": true
   },
   "source": [
    "#### Drop duplicate rows"
   ]
  },
  {
   "cell_type": "code",
   "execution_count": 115,
   "metadata": {
    "editable": true
   },
   "outputs": [],
   "source": [
    "#df_demographic_usa = df_demographic_usa.dropDuplicates(subset=['City', 'State', 'State Code', 'Race'])"
   ]
  },
  {
   "cell_type": "code",
   "execution_count": null,
   "metadata": {
    "editable": true
   },
   "outputs": [],
   "source": [
    "df_demographic_usa.count()"
   ]
  },
  {
   "cell_type": "code",
   "execution_count": 4,
   "metadata": {
    "editable": true
   },
   "outputs": [],
   "source": [
    "def sas_labels_descriptions_data(input_label):\n",
    "\n",
    "    with open('I94_SAS_Labels_Descriptions.SAS') as labels_descriptions:\n",
    "            rawlabels_data = labels_descriptions.read()\n",
    "\n",
    "    labels_data = rawlabels_data[rawlabels_data.index(input_label):]\n",
    "    labels_data = labels_data[:labels_data.index(';')]\n",
    "    \n",
    "    \n",
    "    lines = labels_data.splitlines()\n",
    "    values_list = []\n",
    "    for line in lines:\n",
    "        try:\n",
    "            codes, values = line.split('=')\n",
    "            codes = codes.strip().strip(\"'\").strip('\"')\n",
    "            values = values.strip().strip(\"'\").strip('\"').strip()\n",
    "            values_list.append((codes, values))\n",
    "        except:\n",
    "            pass\n",
    "        \n",
    "    return values_list"
   ]
  },
  {
   "cell_type": "code",
   "execution_count": 5,
   "metadata": {
    "editable": true
   },
   "outputs": [],
   "source": [
    "# define schema that will be used for all labels\n",
    "schema = StructType ([\n",
    "        StructField (\"code\", StringType ()),\n",
    "        StructField (\"name\", StringType ())\n",
    "    ])"
   ]
  },
  {
   "cell_type": "code",
   "execution_count": 6,
   "metadata": {
    "editable": true
   },
   "outputs": [],
   "source": [
    "df_countries = spark.createDataFrame(\n",
    "        data=sas_labels_descriptions_data('I94RES'),\n",
    "        schema=schema\n",
    ")"
   ]
  },
  {
   "cell_type": "code",
   "execution_count": 7,
   "metadata": {
    "editable": true
   },
   "outputs": [
    {
     "name": "stdout",
     "output_type": "stream",
     "text": [
      "+----+--------------------+\n",
      "|code|                name|\n",
      "+----+--------------------+\n",
      "| 582|MEXICO Air Sea, a...|\n",
      "| 236|         AFGHANISTAN|\n",
      "| 101|             ALBANIA|\n",
      "| 316|             ALGERIA|\n",
      "| 102|             ANDORRA|\n",
      "| 324|              ANGOLA|\n",
      "| 529|            ANGUILLA|\n",
      "| 518|     ANTIGUA-BARBUDA|\n",
      "| 687|           ARGENTINA|\n",
      "| 151|             ARMENIA|\n",
      "| 532|               ARUBA|\n",
      "| 438|           AUSTRALIA|\n",
      "| 103|             AUSTRIA|\n",
      "| 152|          AZERBAIJAN|\n",
      "| 512|             BAHAMAS|\n",
      "| 298|             BAHRAIN|\n",
      "| 274|          BANGLADESH|\n",
      "| 513|            BARBADOS|\n",
      "| 104|             BELGIUM|\n",
      "| 581|              BELIZE|\n",
      "+----+--------------------+\n",
      "only showing top 20 rows\n",
      "\n"
     ]
    }
   ],
   "source": [
    "df_countries.show()"
   ]
  },
  {
   "cell_type": "code",
   "execution_count": 8,
   "metadata": {
    "editable": true
   },
   "outputs": [],
   "source": [
    "df_ports = spark.createDataFrame(\n",
    "        data=sas_labels_descriptions_data('I94PORT'),\n",
    "        schema=schema\n",
    ")"
   ]
  },
  {
   "cell_type": "code",
   "execution_count": 9,
   "metadata": {
    "editable": true
   },
   "outputs": [
    {
     "name": "stdout",
     "output_type": "stream",
     "text": [
      "+----+--------------------+\n",
      "|code|                name|\n",
      "+----+--------------------+\n",
      "| ALC|           ALCAN, AK|\n",
      "| ANC|       ANCHORAGE, AK|\n",
      "| BAR|BAKER AAF - BAKER...|\n",
      "| DAC|   DALTONS CACHE, AK|\n",
      "| PIZ|DEW STATION PT LA...|\n",
      "| DTH|    DUTCH HARBOR, AK|\n",
      "| EGL|           EAGLE, AK|\n",
      "| FRB|       FAIRBANKS, AK|\n",
      "| HOM|           HOMER, AK|\n",
      "| HYD|           HYDER, AK|\n",
      "| JUN|          JUNEAU, AK|\n",
      "| 5KE|       KETCHIKAN, AK|\n",
      "| KET|       KETCHIKAN, AK|\n",
      "| MOS|MOSES POINT INTER...|\n",
      "| NIK|         NIKISKI, AK|\n",
      "| NOM|             NOM, AK|\n",
      "| PKC|     POKER CREEK, AK|\n",
      "| ORI|  PORT LIONS SPB, AK|\n",
      "| SKA|         SKAGWAY, AK|\n",
      "| SNP| ST. PAUL ISLAND, AK|\n",
      "+----+--------------------+\n",
      "only showing top 20 rows\n",
      "\n"
     ]
    }
   ],
   "source": [
    "df_ports.show()"
   ]
  },
  {
   "cell_type": "code",
   "execution_count": 10,
   "metadata": {
    "editable": true
   },
   "outputs": [],
   "source": [
    "df_states = spark.createDataFrame(\n",
    "        data=sas_labels_descriptions_data('I94ADDR'),\n",
    "        schema=schema\n",
    ")"
   ]
  },
  {
   "cell_type": "code",
   "execution_count": 11,
   "metadata": {
    "editable": true
   },
   "outputs": [
    {
     "name": "stdout",
     "output_type": "stream",
     "text": [
      "+----+-----------------+\n",
      "|code|             name|\n",
      "+----+-----------------+\n",
      "|  AL|          ALABAMA|\n",
      "|  AK|           ALASKA|\n",
      "|  AZ|          ARIZONA|\n",
      "|  AR|         ARKANSAS|\n",
      "|  CA|       CALIFORNIA|\n",
      "|  CO|         COLORADO|\n",
      "|  CT|      CONNECTICUT|\n",
      "|  DE|         DELAWARE|\n",
      "|  DC|DIST. OF COLUMBIA|\n",
      "|  FL|          FLORIDA|\n",
      "|  GA|          GEORGIA|\n",
      "|  GU|             GUAM|\n",
      "|  HI|           HAWAII|\n",
      "|  ID|            IDAHO|\n",
      "|  IL|         ILLINOIS|\n",
      "|  IN|          INDIANA|\n",
      "|  IA|             IOWA|\n",
      "|  KS|           KANSAS|\n",
      "|  KY|         KENTUCKY|\n",
      "|  LA|        LOUISIANA|\n",
      "+----+-----------------+\n",
      "only showing top 20 rows\n",
      "\n"
     ]
    }
   ],
   "source": [
    "df_states.show()"
   ]
  },
  {
   "cell_type": "code",
   "execution_count": 12,
   "metadata": {
    "editable": true
   },
   "outputs": [],
   "source": [
    "df_travel_modes = spark.createDataFrame(\n",
    "        data=sas_labels_descriptions_data('I94MODE'),\n",
    "        schema=schema\n",
    ")\n"
   ]
  },
  {
   "cell_type": "code",
   "execution_count": 13,
   "metadata": {
    "editable": true
   },
   "outputs": [
    {
     "name": "stdout",
     "output_type": "stream",
     "text": [
      "+----+------------+\n",
      "|code|        name|\n",
      "+----+------------+\n",
      "|   1|         Air|\n",
      "|   2|         Sea|\n",
      "|   3|        Land|\n",
      "|   9|Not reported|\n",
      "+----+------------+\n",
      "\n"
     ]
    }
   ],
   "source": [
    "df_travel_modes.show()"
   ]
  },
  {
   "cell_type": "code",
   "execution_count": 14,
   "metadata": {
    "editable": true
   },
   "outputs": [],
   "source": [
    "df_visa_categories = spark.createDataFrame(\n",
    "        data=sas_labels_descriptions_data('I94VISA'),\n",
    "        schema=schema\n",
    ")"
   ]
  },
  {
   "cell_type": "code",
   "execution_count": 15,
   "metadata": {
    "editable": true
   },
   "outputs": [
    {
     "name": "stdout",
     "output_type": "stream",
     "text": [
      "+----+--------+\n",
      "|code|    name|\n",
      "+----+--------+\n",
      "|   1|Business|\n",
      "|   2|Pleasure|\n",
      "|   3| Student|\n",
      "+----+--------+\n",
      "\n"
     ]
    }
   ],
   "source": [
    "df_visa_categories.show()"
   ]
  },
  {
   "cell_type": "code",
   "execution_count": 16,
   "metadata": {
    "editable": true
   },
   "outputs": [
    {
     "data": {
      "text/plain": [
       "False"
      ]
     },
     "execution_count": 16,
     "metadata": {},
     "output_type": "execute_result"
    }
   ],
   "source": [
    "check_duplicates(df_countries)"
   ]
  },
  {
   "cell_type": "markdown",
   "metadata": {
    "editable": true
   },
   "source": [
    "### Step 3: Define the Data Model\n",
    "#### Conceptual Data Model & Mapping Out Data Pipelines\n",
    "OLAP queries were considered when creating the star schema. The ETL procedure made sure that the dimension tables are normalized, followed by the data quality tests. The joins are also simple and less expensive on the database because the dimension tables are reasonably small and have a sufficient number of unique primary keys.\n",
    "\n",
    "\n"
   ]
  },
  {
   "cell_type": "markdown",
   "metadata": {
    "editable": true
   },
   "source": [
    "<code>i94_fact_table</code>\n",
    "\n",
    "\n",
    "- **cicid:** id\n",
    "- **entry_year:** year\n",
    "- **state_code:** immigrant state code\n",
    "- **entry_month:**  month\n",
    "- **origin_country_code:** i94 country code as per SAS Labels Descriptions file\n",
    "- **port_code:** i94port code as per SAS Labels Descriptions file\n",
    "- **visa_type:** visa type\n",
    "- **flight_number:** flight number\n",
    "- **arrival_date:** date of arrival in U.S.\n",
    "- **travel_mode_code:** code for travel mode of arrival as per SAS Labels Descriptions file\n",
    "- **us_state_code:** two letter U.S. state code\n",
    "- **departure_date:** departure date from U.S.\n",
    "- **age:** immigrant age \n",
    "- **visa_category_code:** visa category code as per SAS Labels Descriptions file\n",
    "- **occupation:** immigrant occupation \n",
    "- **gender:** immigrant gender\n",
    "- **birth_year:**immigrant birth year \n",
    "- **entry_date:** date to which admitted to U.S\n",
    "- **airline:** airline code used to arrive in U.S\n",
    "- **admission_number:** admission number\n",
    "\n",
    "<code>df_airport_codes</code>\n",
    "- **ident:** string - Airport id\n",
    "- **type:** string - size of airport\n",
    "- **name:** string - name\n",
    "- **elevation_ft**: float - elevation in feet\n",
    "- **continent:** string - continet\n",
    "- **iso_country:** string  - country (ISO-2)\n",
    "- **iso_region:** string  - region (ISO-2)\n",
    "- **municipality:** string - municipality\n",
    "- **gps_code:** string  - gps code\n",
    "- **iata_code:** string  - IATA code\n",
    "- **local_code:** string - Local code\n",
    "- **coordinates:** string - coordinates\n",
    "\n",
    "\n",
    "<code>visa_categories_dim_table (df_visa_categories) </code>\n",
    "\n",
    "- **code:** string  - visa code\n",
    "- **name:** string  - visa description\n",
    "\n",
    "<code>travel_modes_dim_table (df_travel_modes) </code>\n",
    "- **code:** string  - Mode code\n",
    "- **name:** string  - Mode description\n",
    "\n",
    "<code>states_dim_table (df_states) </code>\n",
    "- **code:** string  - state code\n",
    "- **name:** string  - state description\n",
    "\n",
    "\n",
    "\n"
   ]
  },
  {
   "cell_type": "markdown",
   "metadata": {
    "editable": true
   },
   "source": [
    "* We will be using join to match keys and create foreign keys to help us create a conenction between our fact table i94_stg and dimensions \n",
    "like countries_stg, ports_stg, states_stg,visa_categories_stg, travel_modes_stg, us_demographics_stg and airport_codes_stg.\n",
    "i94_fact_table = spark.sql(\"\"\"\n",
    "            SELECT\n",
    "                sid.cicid AS cicid,\n",
    "                sid.i94yr AS entry_year,\n",
    "                sid.i94addr as state_code,\n",
    "                sid.i94mon AS entry_month,\n",
    "                cs.code AS origin_country_code, #foreign key between fact table and countries_stg\n",
    "                ps.code AS port_code, #foreign key between fact table and ports_stg\n",
    "                sid.visatype AS visa_type,\n",
    "                sid.fltno AS flight_number,\n",
    "                sid.arrdate AS arrival_date,\n",
    "                tms.code AS travel_mode_code, #foreign key between fact table and travel_modes_stg\n",
    "                stsg.code AS us_state_code, #foreign key between fact table and states_stg\n",
    "                sid.depdate AS departure_date,\n",
    "                sid.i94bir AS age,\n",
    "                vcs.code AS visa_category_code, #foreign key between fact table and visa_categories_stg\n",
    "                sid.gender AS gender,\n",
    "                sid.biryear AS birth_year,\n",
    "                sid.dtaddto AS entry_date,\n",
    "                sid.airline AS airline,\n",
    "                sid.admnum AS admission_number\n",
    "                \n",
    "            FROM i94_stg sid\n",
    "                JOIN countries_stg cs ON cs.code = sid.i94res\n",
    "                JOIN ports_stg ps ON ps.code = sid.i94port\n",
    "                JOIN states_stg stsg ON stsg.code = sid.i94addr\n",
    "                JOIN visa_categories_stg vcs ON vcs.code = sid.i94visa\n",
    "                JOIN travel_modes_stg tms ON tms.code = sid.i94mode\n",
    "                \n",
    "            WHERE \n",
    "                cs.code IS NOT NULL AND\n",
    "                ps.code IS NOT NULL AND\n",
    "                stsg.code IS NOT NULL AND\n",
    "                tms.code IS NOT NULL AND\n",
    "                vcs.code IS NOT NULL\n",
    "        \"\"\")"
   ]
  },
  {
   "cell_type": "markdown",
   "metadata": {
    "editable": true
   },
   "source": [
    "## Foreign keys "
   ]
  },
  {
   "cell_type": "markdown",
   "metadata": {
    "editable": true
   },
   "source": [
    "* origin_country_code, #foreign key between fact table and countries_stg\n",
    "* port_code, #foreign key between fact table and ports_stg\n",
    "* travel_mode_code, #foreign key between fact table and travel_modes_stg\n",
    "* stsg.code AS us_state_code, #foreign key between fact table and states_stg\n",
    "* vcs.code AS visa_category_code, #foreign key between fact table and visa_categories_stg"
   ]
  },
  {
   "cell_type": "markdown",
   "metadata": {
    "editable": true
   },
   "source": [
    "### Step 4: Run Pipelines to Model the Data \n",
    "#### 4.1 Create the data model\n",
    "Build the data pipelines to create the data model."
   ]
  },
  {
   "cell_type": "code",
   "execution_count": 16,
   "metadata": {
    "editable": true
   },
   "outputs": [],
   "source": [
    "# Staging tables\n",
    "df_imm94.createOrReplaceTempView('i94_stg')\n",
    "#df_airport_codes.createOrReplaceTempView('airport_codes_stg')\n",
    "#df_demographic_usa.createOrReplaceTempView('us_demographics_stg')\n",
    "df_states.createOrReplaceTempView('states_stg')\n",
    "df_visa_categories.createOrReplaceTempView('visa_categories_stg')\n",
    "df_travel_modes.createOrReplaceTempView('travel_modes_stg')\n",
    "df_ports.createOrReplaceTempView('ports_stg')\n",
    "df_countries.createOrReplaceTempView('countries_stg')"
   ]
  },
  {
   "cell_type": "code",
   "execution_count": 131,
   "metadata": {
    "editable": true
   },
   "outputs": [
    {
     "name": "stdout",
     "output_type": "stream",
     "text": [
      "root\n",
      " |-- dt: timestamp (nullable = true)\n",
      " |-- AverageTemperature: double (nullable = true)\n",
      " |-- AverageTemperatureUncertainty: double (nullable = true)\n",
      " |-- City: string (nullable = true)\n",
      " |-- Country: string (nullable = true)\n",
      " |-- Latitude: string (nullable = true)\n",
      " |-- Longitude: string (nullable = true)\n",
      "\n"
     ]
    }
   ],
   "source": [
    "df_temp.printSchema()"
   ]
  },
  {
   "cell_type": "code",
   "execution_count": 136,
   "metadata": {
    "editable": true
   },
   "outputs": [
    {
     "name": "stdout",
     "output_type": "stream",
     "text": [
      "root\n",
      " |-- cicid: integer (nullable = true)\n",
      " |-- i94yr: integer (nullable = true)\n",
      " |-- i94mon: integer (nullable = true)\n",
      " |-- i94cit: integer (nullable = true)\n",
      " |-- i94res: integer (nullable = true)\n",
      " |-- i94port: string (nullable = true)\n",
      " |-- arrdate: date (nullable = true)\n",
      " |-- i94mode: integer (nullable = true)\n",
      " |-- i94addr: string (nullable = true)\n",
      " |-- depdate: date (nullable = true)\n",
      " |-- i94bir: integer (nullable = true)\n",
      " |-- i94visa: integer (nullable = true)\n",
      " |-- count: integer (nullable = true)\n",
      " |-- dtadfile: string (nullable = true)\n",
      " |-- visapost: string (nullable = true)\n",
      " |-- entdepa: string (nullable = true)\n",
      " |-- entdepd: string (nullable = true)\n",
      " |-- matflag: string (nullable = true)\n",
      " |-- biryear: integer (nullable = true)\n",
      " |-- dtaddto: string (nullable = true)\n",
      " |-- gender: string (nullable = true)\n",
      " |-- airline: string (nullable = true)\n",
      " |-- admnum: integer (nullable = true)\n",
      " |-- fltno: string (nullable = true)\n",
      " |-- visatype: string (nullable = true)\n",
      "\n"
     ]
    }
   ],
   "source": [
    "df_imm94.printSchema()"
   ]
  },
  {
   "cell_type": "code",
   "execution_count": 17,
   "metadata": {
    "editable": true
   },
   "outputs": [],
   "source": [
    "i94_fact_table = spark.sql(\"\"\"\n",
    "            SELECT\n",
    "                sid.cicid AS cicid,\n",
    "                sid.i94yr AS entry_year,\n",
    "                sid.i94addr as state_code,\n",
    "                sid.i94mon AS entry_month,\n",
    "                cs.code AS origin_country_code,\n",
    "                ps.code AS port_code,\n",
    "                sid.visatype AS visa_type,\n",
    "                sid.fltno AS flight_number,\n",
    "                sid.arrdate AS arrival_date,\n",
    "                tms.code AS travel_mode_code,\n",
    "                stsg.code AS us_state_code,\n",
    "                sid.depdate AS departure_date,\n",
    "                sid.i94bir AS age,\n",
    "                vcs.code AS visa_category_code,\n",
    "                sid.gender AS gender,\n",
    "                sid.biryear AS birth_year,\n",
    "                sid.dtaddto AS entry_date,\n",
    "                sid.airline AS airline,\n",
    "                sid.admnum AS admission_number\n",
    "                \n",
    "            FROM i94_stg sid\n",
    "                left JOIN countries_stg cs ON cs.code = sid.i94res\n",
    "                left JOIN ports_stg ps ON ps.code = sid.i94port\n",
    "                left JOIN states_stg stsg ON stsg.code = sid.i94addr\n",
    "                left JOIN visa_categories_stg vcs ON vcs.code = sid.i94visa\n",
    "                left JOIN travel_modes_stg tms ON tms.code = sid.i94mode\n",
    "                \n",
    "            WHERE \n",
    "                cs.code IS NOT NULL AND\n",
    "                ps.code IS NOT NULL AND\n",
    "                stsg.code IS NOT NULL AND\n",
    "                tms.code IS NOT NULL AND\n",
    "                vcs.code IS NOT NULL\n",
    "        \"\"\")"
   ]
  },
  {
   "cell_type": "code",
   "execution_count": 18,
   "metadata": {
    "editable": true
   },
   "outputs": [
    {
     "data": {
      "text/html": [
       "<div>\n",
       "<style scoped>\n",
       "    .dataframe tbody tr th:only-of-type {\n",
       "        vertical-align: middle;\n",
       "    }\n",
       "\n",
       "    .dataframe tbody tr th {\n",
       "        vertical-align: top;\n",
       "    }\n",
       "\n",
       "    .dataframe thead th {\n",
       "        text-align: right;\n",
       "    }\n",
       "</style>\n",
       "<table border=\"1\" class=\"dataframe\">\n",
       "  <thead>\n",
       "    <tr style=\"text-align: right;\">\n",
       "      <th></th>\n",
       "      <th>cicid</th>\n",
       "      <th>entry_year</th>\n",
       "      <th>state_code</th>\n",
       "      <th>entry_month</th>\n",
       "      <th>origin_country_code</th>\n",
       "      <th>port_code</th>\n",
       "      <th>visa_type</th>\n",
       "      <th>flight_number</th>\n",
       "      <th>arrival_date</th>\n",
       "      <th>travel_mode_code</th>\n",
       "      <th>us_state_code</th>\n",
       "      <th>departure_date</th>\n",
       "      <th>age</th>\n",
       "      <th>visa_category_code</th>\n",
       "      <th>gender</th>\n",
       "      <th>birth_year</th>\n",
       "      <th>entry_date</th>\n",
       "      <th>airline</th>\n",
       "      <th>admission_number</th>\n",
       "    </tr>\n",
       "  </thead>\n",
       "  <tbody>\n",
       "    <tr>\n",
       "      <th>0</th>\n",
       "      <td>3386206.0</td>\n",
       "      <td>2016.0</td>\n",
       "      <td>AZ</td>\n",
       "      <td>4.0</td>\n",
       "      <td>438</td>\n",
       "      <td>FMY</td>\n",
       "      <td>WB</td>\n",
       "      <td>00093</td>\n",
       "      <td>20562.0</td>\n",
       "      <td>1</td>\n",
       "      <td>AZ</td>\n",
       "      <td>20568.0</td>\n",
       "      <td>54.0</td>\n",
       "      <td>1</td>\n",
       "      <td>M</td>\n",
       "      <td>1962.0</td>\n",
       "      <td>07162016</td>\n",
       "      <td>QF</td>\n",
       "      <td>5.635993e+10</td>\n",
       "    </tr>\n",
       "    <tr>\n",
       "      <th>1</th>\n",
       "      <td>1393063.0</td>\n",
       "      <td>2016.0</td>\n",
       "      <td>CA</td>\n",
       "      <td>4.0</td>\n",
       "      <td>201</td>\n",
       "      <td>LOS</td>\n",
       "      <td>B2</td>\n",
       "      <td>00012</td>\n",
       "      <td>20552.0</td>\n",
       "      <td>1</td>\n",
       "      <td>CA</td>\n",
       "      <td>20566.0</td>\n",
       "      <td>40.0</td>\n",
       "      <td>2</td>\n",
       "      <td>M</td>\n",
       "      <td>1976.0</td>\n",
       "      <td>10072016</td>\n",
       "      <td>BR</td>\n",
       "      <td>9.306166e+10</td>\n",
       "    </tr>\n",
       "    <tr>\n",
       "      <th>2</th>\n",
       "      <td>3381198.0</td>\n",
       "      <td>2016.0</td>\n",
       "      <td>AZ</td>\n",
       "      <td>4.0</td>\n",
       "      <td>268</td>\n",
       "      <td>FMY</td>\n",
       "      <td>WB</td>\n",
       "      <td>00006</td>\n",
       "      <td>20562.0</td>\n",
       "      <td>1</td>\n",
       "      <td>AZ</td>\n",
       "      <td>20567.0</td>\n",
       "      <td>37.0</td>\n",
       "      <td>1</td>\n",
       "      <td>M</td>\n",
       "      <td>1979.0</td>\n",
       "      <td>07162016</td>\n",
       "      <td>CI</td>\n",
       "      <td>5.639123e+10</td>\n",
       "    </tr>\n",
       "    <tr>\n",
       "      <th>3</th>\n",
       "      <td>4842948.0</td>\n",
       "      <td>2016.0</td>\n",
       "      <td>FL</td>\n",
       "      <td>4.0</td>\n",
       "      <td>689</td>\n",
       "      <td>FTL</td>\n",
       "      <td>B2</td>\n",
       "      <td>08704</td>\n",
       "      <td>20569.0</td>\n",
       "      <td>1</td>\n",
       "      <td>FL</td>\n",
       "      <td>20574.0</td>\n",
       "      <td>30.0</td>\n",
       "      <td>2</td>\n",
       "      <td>F</td>\n",
       "      <td>1986.0</td>\n",
       "      <td>10242016</td>\n",
       "      <td>AD</td>\n",
       "      <td>9.447752e+10</td>\n",
       "    </tr>\n",
       "    <tr>\n",
       "      <th>4</th>\n",
       "      <td>803901.0</td>\n",
       "      <td>2016.0</td>\n",
       "      <td>AZ</td>\n",
       "      <td>4.0</td>\n",
       "      <td>689</td>\n",
       "      <td>FMY</td>\n",
       "      <td>B1</td>\n",
       "      <td>00216</td>\n",
       "      <td>20548.0</td>\n",
       "      <td>1</td>\n",
       "      <td>AZ</td>\n",
       "      <td>20552.0</td>\n",
       "      <td>55.0</td>\n",
       "      <td>1</td>\n",
       "      <td>M</td>\n",
       "      <td>1961.0</td>\n",
       "      <td>10032016</td>\n",
       "      <td>AA</td>\n",
       "      <td>9.271847e+10</td>\n",
       "    </tr>\n",
       "  </tbody>\n",
       "</table>\n",
       "</div>"
      ],
      "text/plain": [
       "       cicid  entry_year state_code  entry_month origin_country_code  \\\n",
       "0  3386206.0      2016.0         AZ          4.0                 438   \n",
       "1  1393063.0      2016.0         CA          4.0                 201   \n",
       "2  3381198.0      2016.0         AZ          4.0                 268   \n",
       "3  4842948.0      2016.0         FL          4.0                 689   \n",
       "4   803901.0      2016.0         AZ          4.0                 689   \n",
       "\n",
       "  port_code visa_type flight_number  arrival_date travel_mode_code  \\\n",
       "0       FMY        WB         00093       20562.0                1   \n",
       "1       LOS        B2         00012       20552.0                1   \n",
       "2       FMY        WB         00006       20562.0                1   \n",
       "3       FTL        B2         08704       20569.0                1   \n",
       "4       FMY        B1         00216       20548.0                1   \n",
       "\n",
       "  us_state_code  departure_date   age visa_category_code gender  birth_year  \\\n",
       "0            AZ         20568.0  54.0                  1      M      1962.0   \n",
       "1            CA         20566.0  40.0                  2      M      1976.0   \n",
       "2            AZ         20567.0  37.0                  1      M      1979.0   \n",
       "3            FL         20574.0  30.0                  2      F      1986.0   \n",
       "4            AZ         20552.0  55.0                  1      M      1961.0   \n",
       "\n",
       "  entry_date airline  admission_number  \n",
       "0   07162016      QF      5.635993e+10  \n",
       "1   10072016      BR      9.306166e+10  \n",
       "2   07162016      CI      5.639123e+10  \n",
       "3   10242016      AD      9.447752e+10  \n",
       "4   10032016      AA      9.271847e+10  "
      ]
     },
     "execution_count": 18,
     "metadata": {},
     "output_type": "execute_result"
    }
   ],
   "source": [
    "i94_fact_table.limit(5).toPandas()"
   ]
  },
  {
   "cell_type": "code",
   "execution_count": 29,
   "metadata": {
    "editable": true
   },
   "outputs": [],
   "source": [
    "i94_fact_table.createOrReplaceTempView('i94_fact_table')"
   ]
  },
  {
   "cell_type": "code",
   "execution_count": null,
   "metadata": {
    "editable": true
   },
   "outputs": [],
   "source": [
    "### immigrant_per_visa_type\n",
    "spark.sql(\"\"\"\n",
    "SELECT count(cicid),visa_type\n",
    "FROM i94_fact_table as immg\n",
    "group by visa_type\n",
    "\"\"\").show()\n"
   ]
  },
  {
   "cell_type": "code",
   "execution_count": 20,
   "metadata": {
    "editable": true
   },
   "outputs": [],
   "source": [
    "# dim tables saved as parquet files \n",
    "# imm94_facttable = spark.read.parquet(\"i94_fact_table\")\n",
    "# city_dim_table = spark.read.parquet(\"city_dim_table\")\n",
    "# ports_dim_table = spark.read.parquet(\"ports_dim_table\")\n",
    "# states_dim_table = spark.read.parquet(\"states_dim_table\")\n",
    "# countries_dim_table = spark.read.parquet(\"countries_dim_table\")\n",
    "# travel_modes_dim_table = spark.read.parquet(\"travel_modes_dim_table\")\n",
    "# visa_categories_dim_table = spark.read.parquet(\"visa_categories_dim_table\")"
   ]
  },
  {
   "cell_type": "markdown",
   "metadata": {
    "editable": true
   },
   "source": [
    "#### 4.2 Data Quality Checks\n",
    "Explain the data quality checks you'll perform to ensure the pipeline ran as expected. These could include:\n",
    " * Integrity constraints on the relational database (e.g., unique key, data type, etc.)\n",
    " * Unit tests for the scripts to ensure they are doing the right thing\n",
    " * Source/Count checks to ensure completeness\n",
    " \n",
    "Run Quality Checks"
   ]
  },
  {
   "cell_type": "code",
   "execution_count": 21,
   "metadata": {
    "editable": true
   },
   "outputs": [
    {
     "data": {
      "text/plain": [
       "False"
      ]
     },
     "execution_count": 21,
     "metadata": {},
     "output_type": "execute_result"
    }
   ],
   "source": [
    "check_duplicates(df_countries)"
   ]
  },
  {
   "cell_type": "code",
   "execution_count": 22,
   "metadata": {
    "editable": true
   },
   "outputs": [
    {
     "name": "stdout",
     "output_type": "stream",
     "text": [
      "+-----+\n",
      "|count|\n",
      "+-----+\n",
      "|    4|\n",
      "+-----+\n",
      "\n"
     ]
    }
   ],
   "source": [
    "# Perform quality checks here\n",
    "spark.sql(\"\"\"\n",
    "    SELECT \n",
    "        COUNT(*) as count\n",
    "    FROM travel_modes_stg\n",
    "\"\"\").show()"
   ]
  },
  {
   "cell_type": "code",
   "execution_count": 23,
   "metadata": {
    "editable": true
   },
   "outputs": [
    {
     "name": "stdout",
     "output_type": "stream",
     "text": [
      "Data quality check passed for this dataframe df_imm94 with 3096313 records\n"
     ]
    }
   ],
   "source": [
    "check_quality(df_imm94,'df_imm94')"
   ]
  },
  {
   "cell_type": "code",
   "execution_count": 24,
   "metadata": {
    "editable": true
   },
   "outputs": [
    {
     "name": "stdout",
     "output_type": "stream",
     "text": [
      "Data quality check passed for this dataframe states_stg with 55 records\n"
     ]
    }
   ],
   "source": [
    "check_quality(df_states,'states_stg')"
   ]
  },
  {
   "cell_type": "code",
   "execution_count": 25,
   "metadata": {
    "editable": true
   },
   "outputs": [
    {
     "name": "stdout",
     "output_type": "stream",
     "text": [
      "Data quality check passed for this dataframe df_visa_categories with 3 records\n"
     ]
    }
   ],
   "source": [
    "check_quality(df_visa_categories,'df_visa_categories')"
   ]
  },
  {
   "cell_type": "code",
   "execution_count": 26,
   "metadata": {
    "editable": true
   },
   "outputs": [
    {
     "name": "stdout",
     "output_type": "stream",
     "text": [
      "Data quality check passed for this dataframe df_travel_modes with 4 records\n"
     ]
    }
   ],
   "source": [
    "check_quality(df_travel_modes,'df_travel_modes')"
   ]
  },
  {
   "cell_type": "code",
   "execution_count": 27,
   "metadata": {
    "editable": true
   },
   "outputs": [
    {
     "name": "stdout",
     "output_type": "stream",
     "text": [
      "Data quality check passed for this dataframe df_ports with 660 records\n"
     ]
    }
   ],
   "source": [
    "check_quality(df_ports,'df_ports')"
   ]
  },
  {
   "cell_type": "code",
   "execution_count": 28,
   "metadata": {
    "editable": true
   },
   "outputs": [
    {
     "name": "stdout",
     "output_type": "stream",
     "text": [
      "Data quality check passed for this dataframe df_countries with 289 records\n"
     ]
    }
   ],
   "source": [
    "check_quality(df_countries,'df_countries')"
   ]
  },
  {
   "cell_type": "markdown",
   "metadata": {
    "editable": true
   },
   "source": [
    "#### 4.3 Data dictionary \n",
    "Create a data dictionary for your data model. For each field, provide a brief description of what the data is and where it came from. You can include the data dictionary in the notebook or in a separate file."
   ]
  },
  {
   "cell_type": "markdown",
   "metadata": {
    "editable": true
   },
   "source": [
    "#### Step 5: Complete Project Write Up\n",
    "* Clearly state the rationale for the choice of tools and technologies for the project.\n",
    "* I useed Apache spark here because of the following points: \n",
    "    * it's ability to process large-scale data.\n",
    "    * A lightning-fast unified analytics engine for big data.\n",
    "    \n",
    "* Propose how often the data should be updated and why:\n",
    "    * Data should be updated monthly. This will give us the most up-to-date data.\n",
    "\n",
    "* Write a description of how you would approach the problem differently under the following scenarios:\n",
    " * The data was increased by 100x:\n",
    " \n",
    "   * We might consider increasing the number of work nodes in our cluster.\n",
    "   \n",
    " * The data populates a dashboard that must be updated on a daily basis by 7am every day.\n",
    " \n",
    "     * We can use Apache Airflow to orchestrate and schedule data pipelines.\n",
    "     \n",
    " * The database needed to be accessed by 100+ people:\n",
    " \n",
    "    * we can opt to use Redshift to have the data stored in a way that it can efficiently be accessed by many people."
   ]
  }
 ],
 "metadata": {
  "kernelspec": {
   "display_name": "Python 3",
   "language": "python",
   "name": "python3"
  },
  "language_info": {
   "codemirror_mode": {
    "name": "ipython",
    "version": 3
   },
   "file_extension": ".py",
   "mimetype": "text/x-python",
   "name": "python",
   "nbconvert_exporter": "python",
   "pygments_lexer": "ipython3",
   "version": "3.6.3"
  }
 },
 "nbformat": 4,
 "nbformat_minor": 4
}
